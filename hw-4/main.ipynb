{
  "nbformat": 4,
  "nbformat_minor": 0,
  "metadata": {
    "kernelspec": {
      "display_name": "Python 3",
      "language": "python",
      "name": "python3"
    },
    "language_info": {
      "codemirror_mode": {
        "name": "ipython",
        "version": 3
      },
      "file_extension": ".py",
      "mimetype": "text/x-python",
      "name": "python",
      "nbconvert_exporter": "python",
      "pygments_lexer": "ipython3",
      "version": "3.7.4"
    },
    "colab": {
      "name": "assignment.ipynb",
      "provenance": [],
      "collapsed_sections": [
        "g52kWXlygjW1",
        "uSl5mgYegjW7",
        "Enu6ezAxgjXE",
        "-UEZbEm9gjXN"
      ]
    }
  },
  "cells": [
    {
      "cell_type": "markdown",
      "metadata": {
        "id": "ssYrEbwngjWw"
      },
      "source": [
        "# Assignment — Link analysis and structural properties"
      ]
    },
    {
      "cell_type": "code",
      "metadata": {
        "id": "usmdJPl4gjWy"
      },
      "source": [
        "import numpy as np\n",
        "import networkx as nx\n",
        "import matplotlib.pyplot as plt\n",
        "import pandas as pd\n",
        "from sklearn.metrics.pairwise import cosine_similarity\n",
        "from scipy.sparse.csgraph import reverse_cuthill_mckee\n",
        "from scipy.sparse import csr_matrix\n",
        "import requests\n",
        "import seaborn as sns"
      ],
      "execution_count": null,
      "outputs": []
    },
    {
      "cell_type": "markdown",
      "metadata": {
        "id": "NK_zQyD1gjW0"
      },
      "source": [
        "Consider ranking of Zachary's Karate Club members. Load the graph from networkx."
      ]
    },
    {
      "cell_type": "code",
      "metadata": {
        "id": "jr8RMrq_gjW0"
      },
      "source": [
        "G = nx.karate_club_graph()\n",
        "nx.draw(G, edgecolors='black')"
      ],
      "execution_count": null,
      "outputs": []
    },
    {
      "cell_type": "markdown",
      "metadata": {
        "id": "g52kWXlygjW1"
      },
      "source": [
        "### Task 1. PageRank calculation (3 points)\n",
        "\n",
        "Implement PageRank algorithm. A function `page_rank` takes a graph `G`, teleportation coefficient `alpha` and number of iterations `k`. The function returns np.array of PageRank scores.\n"
      ]
    },
    {
      "cell_type": "code",
      "metadata": {
        "deletable": false,
        "editable": false,
        "nbgrader": {
          "cell_type": "code",
          "checksum": "6412a07f9856a6c36da608f3ee413c8b",
          "grade": false,
          "grade_id": "cell-03522d80086a8dd6",
          "locked": true,
          "schema_version": 3,
          "solution": false,
          "task": false
        },
        "id": "ZjWnjsnqgjW1"
      },
      "source": [
        "'''Do not touch the cell'''\n",
        "def page_rank(G, alpha, k):\n",
        "    A = nx.to_numpy_array(G)\n",
        "    P = transition_matrix(A)\n",
        "    v = teleportation_vector(A)\n",
        "    rank = np.ones(A.shape[0]) / A.shape[0]\n",
        "    for _ in range(k):\n",
        "        rank = update_rank(rank, P, v, alpha)\n",
        "    return np.array(rank)"
      ],
      "execution_count": null,
      "outputs": []
    },
    {
      "cell_type": "markdown",
      "metadata": {
        "id": "6Cz2Ju1LgjW2"
      },
      "source": [
        "Write a function `transition_matrix` that takes a np.array with an adjacency matrix `A` and returns a np.array with a transition matrix where an entry $p_{ij}$ equals to probability of going to $j$ if we are in $i$."
      ]
    },
    {
      "cell_type": "code",
      "metadata": {
        "deletable": false,
        "nbgrader": {
          "cell_type": "code",
          "checksum": "41fabd4dacdb93925ce7d57242c12fad",
          "grade": false,
          "grade_id": "cell-8fd0d5cff01278ae",
          "locked": false,
          "schema_version": 3,
          "solution": true,
          "task": false
        },
        "id": "BMjTIJ5BgjW2"
      },
      "source": [
        "def transition_matrix(A):\n",
        "    # YOUR CODE HERE\n",
        "    raise NotImplementedError()"
      ],
      "execution_count": null,
      "outputs": []
    },
    {
      "cell_type": "code",
      "metadata": {
        "deletable": false,
        "editable": false,
        "nbgrader": {
          "cell_type": "code",
          "checksum": "61200e7d547e9f6f0bfd91f7eddaa9f7",
          "grade": true,
          "grade_id": "cell-d01ac29b194c8d66",
          "locked": true,
          "points": 1,
          "schema_version": 3,
          "solution": false,
          "task": false
        },
        "id": "ypHKqIyDgjW3"
      },
      "source": [
        "A = [[0, 1, 1], # probability P(0→1) = P(0→2) = 1/2\n",
        "     [0, 0, 1], # probability P(1→2) = 1\n",
        "     [1, 0, 0]] # probability P(2→0) = 1\n",
        "A = np.array(A)\n",
        "tran_sum = transition_matrix(A).sum(axis=1)\n",
        "assert tran_sum[0] == tran_sum[1] == tran_sum[2] == 1\n",
        "A = nx.to_numpy_array(G)\n",
        "assert transition_matrix(A)[0, 1] == 0.0625\n",
        "assert round(transition_matrix(A)[1, 0], 4) == 0.1111"
      ],
      "execution_count": null,
      "outputs": []
    },
    {
      "cell_type": "markdown",
      "metadata": {
        "id": "aTfrJTiCgjW3"
      },
      "source": [
        "Write a function `teleportation_vector` that takes a np.array with an adjacency matrix `A` and returns a np.array with a teleportation vector where $p_i$ is a probability to teleport to a node $i$ (by default it is a uniform distribution)."
      ]
    },
    {
      "cell_type": "code",
      "metadata": {
        "deletable": false,
        "nbgrader": {
          "cell_type": "code",
          "checksum": "c51d5421bb76304666a90ab8b03f5cb1",
          "grade": false,
          "grade_id": "cell-f0bcf9124c0d7bdd",
          "locked": false,
          "schema_version": 3,
          "solution": true,
          "task": false
        },
        "id": "INxlydaSgjW3"
      },
      "source": [
        "def teleportation_vector(A):\n",
        "    # YOUR CODE HERE\n",
        "    raise NotImplementedError()"
      ],
      "execution_count": null,
      "outputs": []
    },
    {
      "cell_type": "code",
      "metadata": {
        "deletable": false,
        "editable": false,
        "nbgrader": {
          "cell_type": "code",
          "checksum": "bca8cbbc2f6c75df5357443231992d2e",
          "grade": true,
          "grade_id": "cell-068e341ddd0332ba",
          "locked": true,
          "points": 1,
          "schema_version": 3,
          "solution": false,
          "task": false
        },
        "id": "c61_JSCzgjW4"
      },
      "source": [
        "assert teleportation_vector(A).sum() == 1"
      ],
      "execution_count": null,
      "outputs": []
    },
    {
      "cell_type": "markdown",
      "metadata": {
        "id": "9iNPZeAFgjW4"
      },
      "source": [
        "Write a function `update_rank`. Check the function `page_rank` to understand parameters. An iterative process is defined as\n",
        "\n",
        "$$\\begin{matrix}\n",
        "r &=& \\text{transition} &+& \\text{teleportation}\\\\\n",
        "r &=& \\alpha P^T r &+& (1 - \\alpha)v\n",
        "\\end{matrix}\n",
        "$$\n",
        "\n",
        "where $P$ is a transition matrix, $v$ is a teleportation vector."
      ]
    },
    {
      "cell_type": "code",
      "metadata": {
        "deletable": false,
        "nbgrader": {
          "cell_type": "code",
          "checksum": "85aa54e35aacb245aa55a8c731257fd4",
          "grade": false,
          "grade_id": "cell-c55a424a1ad9798a",
          "locked": false,
          "schema_version": 3,
          "solution": true,
          "task": false
        },
        "id": "1aVDnZDvgjW5"
      },
      "source": [
        "def update_rank(rank, P, v, alpha):\n",
        "    # YOUR CODE HERE\n",
        "    raise NotImplementedError()"
      ],
      "execution_count": null,
      "outputs": []
    },
    {
      "cell_type": "code",
      "metadata": {
        "deletable": false,
        "editable": false,
        "nbgrader": {
          "cell_type": "code",
          "checksum": "b1f314fca2978ac75bcd966d2cd8a5d4",
          "grade": true,
          "grade_id": "cell-ffacc690e8706a16",
          "locked": true,
          "points": 1,
          "schema_version": 3,
          "solution": false,
          "task": false
        },
        "id": "FpNz9Qn7gjW5"
      },
      "source": [
        "assert page_rank(G, 0.8, 20).shape == (34, )\n",
        "assert page_rank(G, 0.8, 20).max() < 0.1\n",
        "assert round(page_rank(G, 0.8, 20).sum(), 4) == 1\n",
        "cases = [[0.9, 30], [0.7, 15], [0.1, 10]]\n",
        "for alpha, k in cases:\n",
        "    corr = np.corrcoef(\n",
        "        page_rank(G, alpha, k), \n",
        "        list(nx.pagerank(G, alpha=alpha, max_iter=k).values())\n",
        "    )[0, 1]\n",
        "    assert round(corr, 4) == 1"
      ],
      "execution_count": null,
      "outputs": []
    },
    {
      "cell_type": "markdown",
      "metadata": {
        "id": "FPj72WJVgjW6"
      },
      "source": [
        "Let us draw the graph where node size depends on PageRank."
      ]
    },
    {
      "cell_type": "code",
      "metadata": {
        "id": "z7s1kgh9gjW6"
      },
      "source": [
        "plt.figure(figsize=(14, 7))\n",
        "pos = nx.spring_layout(G)\n",
        "\n",
        "cases = [0.1, 0.9]\n",
        "\n",
        "for i, alpha in enumerate(cases):\n",
        "    plt.subplot(1, 2, i+1)\n",
        "    PR = page_rank(G, alpha, 10)\n",
        "    nx.draw(G, \n",
        "            pos,\n",
        "            width=0.5,\n",
        "            linewidths=0.5,\n",
        "            edgecolors='black',\n",
        "            cmap=plt.cm.hot,\n",
        "            node_size=PR*3e3,\n",
        "            node_color=PR)\n",
        "    plt.title('alpha is {}'.format(alpha))"
      ],
      "execution_count": null,
      "outputs": []
    },
    {
      "cell_type": "markdown",
      "metadata": {
        "id": "uSl5mgYegjW7"
      },
      "source": [
        "### Task 2. PageRank visualization (3 points)\n",
        "In this task we will visualize some properties of PageRank. First, we draw a plot where every line represents a PageRank of a node with respect to alpha while the number of iterations is fixed.\n",
        "\n",
        "Write a function `rank_matrix_by_alpha` that takes a graph `G`, np.array of `alphas`, number of iterations `k` and returns a matrix of PageRank scores where alphas are rows and nodes are columns."
      ]
    },
    {
      "cell_type": "code",
      "metadata": {
        "deletable": false,
        "nbgrader": {
          "cell_type": "code",
          "checksum": "0cf54545489af586684ad3c7941e5c8c",
          "grade": false,
          "grade_id": "cell-cb4d085a7e801d78",
          "locked": false,
          "schema_version": 3,
          "solution": true,
          "task": false
        },
        "id": "mjj_1z-xgjW8"
      },
      "source": [
        "def rank_matrix_by_alpha(G, alphas, k):\n",
        "    # YOUR CODE HERE\n",
        "    raise NotImplementedError()"
      ],
      "execution_count": null,
      "outputs": []
    },
    {
      "cell_type": "code",
      "metadata": {
        "deletable": false,
        "editable": false,
        "nbgrader": {
          "cell_type": "code",
          "checksum": "06fe8e9f6b1445620d7d538ce10c8767",
          "grade": true,
          "grade_id": "cell-55178fe3455bd1c8",
          "locked": true,
          "points": 0.75,
          "schema_version": 3,
          "solution": false,
          "task": false
        },
        "id": "ZMSB8w2QgjW8"
      },
      "source": [
        "alpha_space = np.linspace(0.1, 0.95, 100)\n",
        "ranks = rank_matrix_by_alpha(G, alpha_space, 10)\n",
        "assert ranks.shape == (100, 34)\n",
        "assert ranks[0, 0] < ranks[-1, 0] < 0.11\n",
        "assert ranks[0, 7] > ranks[-1, 7] > 0.02"
      ],
      "execution_count": null,
      "outputs": []
    },
    {
      "cell_type": "markdown",
      "metadata": {
        "id": "c6gPiWsHgjW9"
      },
      "source": [
        "Now write a function `node_color` that takes a `node` and np.array with PageRank scores `rank`. The length of `rank` is the number of nodes and `rank[node]` is a score of a node. Also here are two colors:\n",
        "* `start_rgb` — a np.array of RGB color [0-1, 0-1, 0-1]\n",
        "* `end_rgb` — a np.array of RGB color [0-1, 0-1, 0-1]\n",
        "\n",
        "The function is a linear mapping from an _index_ (not score) of a node in sorted PageRank to a RGB color, that is the lowest index is a start color and the largest index is an end color. \n",
        "\n",
        "_For example, if a start color is [1, 1, 1], end color is [0, 0, 0] and PageRank of nodes are_\n",
        "* 0: 0.1\n",
        "* 1: 0.2\n",
        "* 2: 0.7\n",
        "\n",
        "_then the mapping of node 1 will be [0.5, 0.5, 0.5]._\n",
        "\n",
        "The function returns a np.array of RGB color."
      ]
    },
    {
      "cell_type": "code",
      "metadata": {
        "deletable": false,
        "nbgrader": {
          "cell_type": "code",
          "checksum": "ec1643ce114dd933a6cf84cbfa82dec9",
          "grade": false,
          "grade_id": "cell-c73a7a18f2c05f9e",
          "locked": false,
          "schema_version": 3,
          "solution": true,
          "task": false
        },
        "id": "4CssHcGZgjW9"
      },
      "source": [
        "def node_color(node, rank, start_rgb, end_rgb):\n",
        "    # YOUR CODE HERE\n",
        "    raise NotImplementedError()"
      ],
      "execution_count": null,
      "outputs": []
    },
    {
      "cell_type": "code",
      "metadata": {
        "deletable": false,
        "editable": false,
        "nbgrader": {
          "cell_type": "code",
          "checksum": "6ddeb8d053aba2cfbe3e9b833370d1e5",
          "grade": true,
          "grade_id": "cell-6fcdf663af93ac9a",
          "locked": true,
          "points": 0.75,
          "schema_version": 3,
          "solution": false,
          "task": false
        },
        "id": "V7HOEtF_gjW-"
      },
      "source": [
        "rank = np.array([0.1, 0.2, 0.7])\n",
        "start_rgb, end_rgb = np.array([1, 1, 1]), np.array([0, 0, 0])\n",
        "temp_rgb = node_color(1, rank, start_rgb, end_rgb)\n",
        "assert temp_rgb.shape == (3,)\n",
        "assert 0 <= temp_rgb.sum() <= 3\n",
        "assert temp_rgb[0] == temp_rgb[1] == temp_rgb[2] == 0.5\n",
        "temp_rgb = node_color(0, rank, start_rgb, end_rgb)\n",
        "assert temp_rgb[0] == temp_rgb[1] == temp_rgb[2] == 1\n",
        "temp_rgb = node_color(2, rank, start_rgb, end_rgb)\n",
        "assert temp_rgb[0] == temp_rgb[1] == temp_rgb[2] == 0\n",
        "start_rgb = np.array([231, 76, 60]) / 255\n",
        "end_rgb = np.array([46, 204, 113 ]) / 255\n",
        "assert round(node_color(0, ranks[-1], start_rgb, end_rgb).sum(), 4) == 1.424\n",
        "assert round(node_color(1, ranks[-1], start_rgb, end_rgb).sum(), 4) == 1.4254"
      ],
      "execution_count": null,
      "outputs": []
    },
    {
      "cell_type": "markdown",
      "metadata": {
        "id": "hmwad_jbgjW-"
      },
      "source": [
        "Let us draw PageRank of nodes by alpha. Node with the lowest PageRank will be red, the largest — green, and others will spread between them."
      ]
    },
    {
      "cell_type": "code",
      "metadata": {
        "id": "GwkJYFaHgjW_"
      },
      "source": [
        "plt.figure(figsize=(14, 5))\n",
        "\n",
        "cases = [[1, None, None, None, None, 'PageRank of nodes'], \n",
        "         [2, 0.4, 0.95, 0.015, 0.035, 'PageRank of nodes (zoom)']]\n",
        "\n",
        "for i, x_min, x_max, y_min, y_max, t in cases:\n",
        "    plt.subplot(1, 2, i)\n",
        "    for idx, node in enumerate(G.nodes):\n",
        "        plt.plot(\n",
        "            alpha_space, \n",
        "            ranks[:, idx], \n",
        "            color=node_color(idx, ranks[-1], start_rgb, end_rgb)\n",
        "        )\n",
        "    plt.xlabel('alpha')\n",
        "    plt.ylabel('PageRank')\n",
        "    plt.title(t)\n",
        "    plt.xlim(x_min, x_max)\n",
        "    plt.ylim(y_min, y_max)"
      ],
      "execution_count": null,
      "outputs": []
    },
    {
      "cell_type": "markdown",
      "metadata": {
        "id": "8bLRnHUSgjW_"
      },
      "source": [
        "We can observe that reds are going down, greens going up, but some intermediate nodes change the direction near alpha 0.7. Why do you think?\n",
        "\n",
        "Next, let us draw a similar plot — PageRank of nodes with respect to number of iterations while alpha is fixed.\n",
        "\n",
        "Write a function `rank_matrix_by_alpha` that takes a graph `G`, `alpha`, number of iterations `k` and returns a matrix of PageRank scores where iterations are rows and nodes are columns. Iterations are 1, 2, ..., `k`."
      ]
    },
    {
      "cell_type": "code",
      "metadata": {
        "deletable": false,
        "nbgrader": {
          "cell_type": "code",
          "checksum": "c116e0af6bcd617747eb0b2ce43cd056",
          "grade": false,
          "grade_id": "cell-85201461fc06f970",
          "locked": false,
          "schema_version": 3,
          "solution": true,
          "task": false
        },
        "id": "nzwIBlAbgjXA"
      },
      "source": [
        "def rank_matrix_by_number(G, alpha, k):\n",
        "    # YOUR CODE HERE\n",
        "    raise NotImplementedError()"
      ],
      "execution_count": null,
      "outputs": []
    },
    {
      "cell_type": "code",
      "metadata": {
        "deletable": false,
        "editable": false,
        "nbgrader": {
          "cell_type": "code",
          "checksum": "fc540feee3aee29ee051a94dbe06f79b",
          "grade": true,
          "grade_id": "cell-326b1dacff6d46f5",
          "locked": true,
          "points": 0.75,
          "schema_version": 3,
          "solution": false,
          "task": false
        },
        "id": "h-dNUbqYgjXA"
      },
      "source": [
        "ranks = rank_matrix_by_number(G, 0.9, 15)\n",
        "ranks.shape == (16, 34)\n",
        "assert 0.06 < ranks[:, 0].min() < ranks[:, 0].max() < 0.15\n",
        "assert 0.01 < ranks[:, 7].min(), ranks[:, 7].max() < 0.03"
      ],
      "execution_count": null,
      "outputs": []
    },
    {
      "cell_type": "markdown",
      "metadata": {
        "id": "cESke1pigjXB"
      },
      "source": [
        "Let us draw dependencies between PageRank and number of iterations."
      ]
    },
    {
      "cell_type": "code",
      "metadata": {
        "id": "e1ODaZbqgjXB"
      },
      "source": [
        "plt.figure(figsize=(7, 5))\n",
        "\n",
        "for idx, node in enumerate(G.nodes):\n",
        "    plt.plot(\n",
        "        ranks[:, idx], \n",
        "        color=node_color(idx, ranks[-1], start_rgb, end_rgb)\n",
        "    )\n",
        "plt.xlabel('number of iterations')\n",
        "plt.ylabel('PageRank')\n",
        "plt.title('PageRank by nodes')\n",
        "\n",
        "plt.show()"
      ],
      "execution_count": null,
      "outputs": []
    },
    {
      "cell_type": "markdown",
      "metadata": {
        "id": "WQJpgEkzgjXC"
      },
      "source": [
        "Next, let us see another visualization of PageRank dynamics. Here are nodes on x axis and PageRank on y axis with log scale."
      ]
    },
    {
      "cell_type": "code",
      "metadata": {
        "id": "MkR_HMuSgjXC"
      },
      "source": [
        "plt.figure(figsize=(12, 6))\n",
        "\n",
        "plt.subplot(1, 2, 1)\n",
        "artists = []\n",
        "for alpha in np.linspace(0.1, 0.95, 9):\n",
        "    artists.append(plt.plot(page_rank(G, alpha, 30), alpha=alpha+0.05, c='tab:orange')[0])\n",
        "plt.title('PageRank with alpha from 0.1 to 0.95\\n number of iterations is 30')\n",
        "plt.xlabel('node')\n",
        "plt.ylabel('PageRank')\n",
        "plt.yscale('log')\n",
        "plt.legend([artists[0], artists[-1]], ['alpha is 0.1', 'alpha is 0.95'])\n",
        "\n",
        "plt.subplot(1, 2, 2)\n",
        "artists = []\n",
        "for i in np.arange(1, 20):\n",
        "    artists.append(plt.plot(page_rank(G, 0.95, i), alpha=min(i*0.1, 1), c='tab:blue')[0])\n",
        "plt.title('PageRank with number of iterations from 1 to 20\\n alpha is 0.95')\n",
        "plt.xlabel('node')\n",
        "plt.ylabel('PageRank')\n",
        "plt.yscale('log')\n",
        "plt.legend([artists[0], artists[-1]], ['number is 1', 'number is 20'])\n",
        "\n",
        "plt.show()"
      ],
      "execution_count": null,
      "outputs": []
    },
    {
      "cell_type": "markdown",
      "metadata": {
        "id": "ycU03LKegjXD"
      },
      "source": [
        "Finally, compare PageRank and degree centrality by drawing them on a scatter plot.\n",
        "\n",
        "Write a function `rank_degree_scatter` that takes a graph `G`, `alpha` and number of iterations `k` and returns a scatter plot (`matplotlib.collections.PathCollection` object). The function draws a scatter plot with PageRank on x axis and degree centrality on y axis."
      ]
    },
    {
      "cell_type": "code",
      "metadata": {
        "deletable": false,
        "nbgrader": {
          "cell_type": "code",
          "checksum": "77d141dcebcf0e5663d113eee408de53",
          "grade": false,
          "grade_id": "cell-d989f5ac0a4917a4",
          "locked": false,
          "schema_version": 3,
          "solution": true,
          "task": false
        },
        "id": "r5ZLYLLcgjXD"
      },
      "source": [
        "def rank_degree_scatter(G, alpha, k):\n",
        "    # YOUR CODE HERE\n",
        "    raise NotImplementedError()"
      ],
      "execution_count": null,
      "outputs": []
    },
    {
      "cell_type": "code",
      "metadata": {
        "deletable": false,
        "editable": false,
        "nbgrader": {
          "cell_type": "code",
          "checksum": "f7585a67c6f68c464a8373220207f4d3",
          "grade": true,
          "grade_id": "cell-19eb524a6c669e02",
          "locked": true,
          "points": 0.75,
          "schema_version": 3,
          "solution": false,
          "task": false
        },
        "id": "_AFKnw2BgjXE"
      },
      "source": [
        "plt.figure(figsize=(12, 6))\n",
        "\n",
        "plt.subplot(1, 2, 1)\n",
        "scatter = rank_degree_scatter(G, 0.1, 30)\n",
        "sc_data = scatter.get_offsets().data\n",
        "assert sc_data.shape == (34, 2)\n",
        "assert 0.96 < np.corrcoef(sc_data[:, 0], sc_data[:, 1])[0, 1] < 0.98\n",
        "assert 0.02 < sc_data[:, 0].min() < sc_data[:, 0].max() < 0.043\n",
        "assert 0.03 < sc_data[:, 1].min() < sc_data[:, 1].max() < 0.52\n",
        "plt.xlabel('PageRank')\n",
        "plt.ylabel('Degree centrality')\n",
        "plt.title('alpha 0.1')\n",
        "\n",
        "plt.subplot(1, 2, 2)\n",
        "rank_degree_scatter(G, 0.9, 30)\n",
        "plt.xlabel('PageRank')\n",
        "plt.ylabel('Degree centrality')\n",
        "plt.title('alpha 0.9')\n",
        "\n",
        "plt.show()"
      ],
      "execution_count": null,
      "outputs": []
    },
    {
      "cell_type": "markdown",
      "metadata": {
        "id": "Enu6ezAxgjXE"
      },
      "source": [
        "### Task 3. HITS visualization (2 points)\n",
        "\n",
        "In this task we will try to find authorities and hubs in political blogs and visualize them. The data is provided from [Political blogosphere Feb. 2005](http://vlado.fmf.uni-lj.si/pub/networks/data/mix/mixed.htm) dataset.\n",
        "\n",
        "The graph contains parallel edges, but HITS algorithm only works without parallel edges. The simplest way to drop parallel edges is to convert a directed multigraph (`nx.MultiDiGraph`) into a directed graph (`nx.DiGraph`).\n",
        "\n",
        "Write a function `hits_polblogs` that takes a path to a gml file with data and returns a tuple with a graph and two dictionaries of the form\n",
        "* `{node: value}`\n",
        "\n",
        "The first dictionary is hub scores, the second one is authority scores. That is, a full output is `(G, hub, auth)`. Apply `nx.hits` to calculate hub and authority scores."
      ]
    },
    {
      "cell_type": "code",
      "metadata": {
        "deletable": false,
        "nbgrader": {
          "cell_type": "code",
          "checksum": "7a862b6f8bea5ea09f1475476551ca97",
          "grade": false,
          "grade_id": "cell-a1cef6ac5cb166ca",
          "locked": false,
          "schema_version": 3,
          "solution": true,
          "task": false
        },
        "id": "RdTFTi_3gjXF"
      },
      "source": [
        "def hits_polblogs(filename):\n",
        "    # YOUR CODE HERE\n",
        "    raise NotImplementedError()"
      ],
      "execution_count": null,
      "outputs": []
    },
    {
      "cell_type": "code",
      "metadata": {
        "deletable": false,
        "editable": false,
        "nbgrader": {
          "cell_type": "code",
          "checksum": "1d55de18f7cce30abbf3309f865c6e76",
          "grade": false,
          "grade_id": "cell-4906014e66426bd0",
          "locked": true,
          "schema_version": 3,
          "solution": false,
          "task": false
        },
        "id": "7TTKWKUqgjXF"
      },
      "source": [
        "url = 'https://raw.githubusercontent.com/netspractice/network-science/main/datasets/polblogs.gml'"
      ],
      "execution_count": null,
      "outputs": []
    },
    {
      "cell_type": "code",
      "metadata": {
        "deletable": false,
        "editable": false,
        "nbgrader": {
          "cell_type": "code",
          "checksum": "865f9a156f74699bf05d0085bbf55e98",
          "grade": true,
          "grade_id": "cell-6613e1dd2efb04ec",
          "locked": true,
          "points": 1,
          "schema_version": 3,
          "solution": false,
          "task": false
        },
        "id": "sI_bFuxTgjXF"
      },
      "source": [
        "open('polblogs.gml', 'wb').write(requests.get(url).content)\n",
        "G, hub, auth = hits_polblogs('polblogs.gml')\n",
        "assert type(G) == nx.DiGraph\n",
        "assert len(hub.values()) == len(auth.values()) == 1490\n",
        "assert round(max(hub.values()), 4) == 0.0069\n",
        "assert round(max(auth.values()), 4) == 0.015"
      ],
      "execution_count": null,
      "outputs": []
    },
    {
      "cell_type": "code",
      "metadata": {
        "id": "vyT0uG3ggjXG"
      },
      "source": [
        "G.number_of_nodes()"
      ],
      "execution_count": null,
      "outputs": []
    },
    {
      "cell_type": "code",
      "metadata": {
        "id": "fqkiLThJgjXG"
      },
      "source": [
        "G.number_of_edges()"
      ],
      "execution_count": null,
      "outputs": []
    },
    {
      "cell_type": "markdown",
      "metadata": {
        "id": "PyNfTefxgjXG"
      },
      "source": [
        "There are many edges and nodes and it makes hard to draw the whole graph. Then, let us draw a scatter plot with hub and authority scores."
      ]
    },
    {
      "cell_type": "code",
      "metadata": {
        "id": "Byw6vYrrgjXG"
      },
      "source": [
        "plt.figure(figsize=(7, 7))\n",
        "plt.scatter(hub.values(), auth.values(), s=7)\n",
        "plt.xlabel('Hub')\n",
        "plt.ylabel('Authority')\n",
        "plt.show()"
      ],
      "execution_count": null,
      "outputs": []
    },
    {
      "cell_type": "markdown",
      "metadata": {
        "id": "Te0lJOGOgjXH"
      },
      "source": [
        "Next, draw a graph with 14 nodes: top 7 authorities and top 7 hubs. Hubs will be on the left, authorities will be on the right.\n",
        "\n",
        "Write a function `hits_visualization` that takes a graph `G`, hub, authority dictionaries, the number of top nodes and returns a dictionary with keys:\n",
        "* `h_top` — np.array of top nodes by hub score\n",
        "* `a_top` — np.array of top nodes by authority score\n",
        "* `subG` — subgraph of `G` with top nodes only\n",
        "* `h_vals` — np.array with hub scores (in initial graph) of top nodes that ordered by `subG.nodes` view \n",
        "* `a_vals` — the same for authority score\n",
        "* `pos` — dictionary with keys are nodes and values are x-y positions of the form\n",
        "\n",
        "`{node: [x, y]}` where \n",
        "* x equals to 0 if it is a hub and 1 if it is a authority\n",
        "* y equals to an index of top array\n",
        "\n",
        "That is, x could be 0 or 1 and y could be 0, 1, ..., 6."
      ]
    },
    {
      "cell_type": "code",
      "metadata": {
        "deletable": false,
        "nbgrader": {
          "cell_type": "code",
          "checksum": "1dc553075ab6d9d8a8e25d51b4af595f",
          "grade": false,
          "grade_id": "cell-649d271bd4a397a7",
          "locked": false,
          "schema_version": 3,
          "solution": true,
          "task": false
        },
        "id": "AVda5QL5gjXH"
      },
      "source": [
        "def hits_visualization(G, hub, auth, top):\n",
        "    # YOUR CODE HERE\n",
        "    raise NotImplementedError()"
      ],
      "execution_count": null,
      "outputs": []
    },
    {
      "cell_type": "code",
      "metadata": {
        "deletable": false,
        "editable": false,
        "nbgrader": {
          "cell_type": "code",
          "checksum": "85a923ed169312040ca0e88351848015",
          "grade": true,
          "grade_id": "cell-e527d05e1009eca3",
          "locked": true,
          "points": 1,
          "schema_version": 3,
          "solution": false,
          "task": false
        },
        "id": "NPDv-erBgjXH"
      },
      "source": [
        "vi = hits_visualization(G, hub, auth, 7)\n",
        "h_top, a_top = vi['h_top'], vi['a_top']\n",
        "h_vals, a_vals = vi['h_vals'], vi['a_vals']\n",
        "subG, pos = vi['subG'], vi['pos']\n",
        "assert h_top.shape[0] == a_top.shape[0] == int(len(subG) / 2) == 7\n",
        "assert 'politicalstrategy.org' == h_top[0]\n",
        "assert 'talkingpointsmemo.com' in a_top\n",
        "assert h_vals.shape == a_vals.shape == (14,)\n",
        "assert h_vals.max() < 0.0069\n",
        "assert 0 <= a_vals.min()\n",
        "assert pos['atrios.blogspot.com'] == [1, 2]\n",
        "assert pos['juancole.com'] == [1, 5]"
      ],
      "execution_count": null,
      "outputs": []
    },
    {
      "cell_type": "markdown",
      "metadata": {
        "id": "_q97mHR8gjXI"
      },
      "source": [
        "Networkx allows to draw nodes, edges, labels separately. In this case, we need to fix a layout and then draw a graph by layers. Let us draw a graph via `nx.draw_networkx`, then draw right labels and then draw left labels via `nx.draw_networkx_labels`. Also we will crop labels with more than 15 symbols to fit on the screen."
      ]
    },
    {
      "cell_type": "code",
      "metadata": {
        "id": "wqzsNoq4gjXI"
      },
      "source": [
        "plt.figure(figsize=(12, 8*2))\n",
        "\n",
        "h_labels = {i:i[:15] if len(i)<=15 else i[:15] + '...' for i in h_top}\n",
        "a_labels = {i:i[:15] if len(i)<=15 else i[:15] + '...' for i in a_top}\n",
        "a_pos = {node:(pos[node][0] + 0.1, pos[node][1]) for node in pos}\n",
        "h_pos = {node:(pos[node][0] - 0.1, pos[node][1]) for node in pos}\n",
        "\n",
        "cases = [[1, 'tab:purple', a_vals, 'Node size by authority score'], \n",
        "         [2, 'tab:cyan', h_vals, 'Node size by hub score']]\n",
        "for i, color, vals, t in cases:\n",
        "    plt.subplot(2, 1, i)\n",
        "    plt.gca().axis('off')\n",
        "    nx.draw_networkx(\n",
        "        subG,\n",
        "        pos,\n",
        "        width=0.5,\n",
        "        with_labels=False,\n",
        "        edgecolors='black',\n",
        "        node_size=vals*1e5,\n",
        "        node_color=color\n",
        "    )\n",
        "    nx.draw_networkx_labels(\n",
        "        subG,\n",
        "        pos=a_pos,\n",
        "        labels=a_labels,\n",
        "        horizontalalignment='left'\n",
        "    )\n",
        "    nx.draw_networkx_labels(\n",
        "        subG,\n",
        "        pos=h_pos,\n",
        "        labels=h_labels,\n",
        "        horizontalalignment='right'\n",
        "    )\n",
        "\n",
        "    plt.xlim(-0.5, 1.5)\n",
        "    plt.title(t)"
      ],
      "execution_count": null,
      "outputs": []
    },
    {
      "cell_type": "markdown",
      "metadata": {
        "id": "2-ob6x8PgjXJ"
      },
      "source": [
        "### Task 4. Similarity measures (0 points)\n",
        "\n",
        "In this section we will look at how nodes can be similar to each other. We will consider the movie co-watch dataset. The dataset is builded based on the MovieLens-100k data. The films have links between when one user gives them the highest rate and watch both."
      ]
    },
    {
      "cell_type": "code",
      "metadata": {
        "id": "LFhOSHlrgjXJ"
      },
      "source": [
        "url = \"https://raw.githubusercontent.com/netspractice/network-science/main/datasets/movies.gml\"\n",
        "open('movie-cowatch.gml', 'wb').write(requests.get(url).content)\n",
        "G = nx.read_gml('movie-cowatch.gml')"
      ],
      "execution_count": null,
      "outputs": []
    },
    {
      "cell_type": "code",
      "metadata": {
        "id": "imVG3fcMgjXK"
      },
      "source": [
        "labs = nx.get_node_attributes(G, \"movieName\")\n",
        "labs = {i:labs[i][:15] if len(labs[i])<=15 else labs[i][:15] + '...' for i in labs}\n",
        "plt.figure(figsize=(10, 10))\n",
        "plt.gca().axis('off')\n",
        "\n",
        "pos = nx.kamada_kawai_layout(G)\n",
        "nx.draw_networkx_nodes(\n",
        "    G,\n",
        "    pos,\n",
        "    node_color='tab:cyan'\n",
        ")\n",
        "nx.draw_networkx_edges(\n",
        "    G,\n",
        "    pos,\n",
        "    width=2,\n",
        "    alpha=0.1,\n",
        ")\n",
        "nx.draw_networkx_labels(\n",
        "    G,\n",
        "    pos,\n",
        "    labels=labs\n",
        ")\n",
        "plt.show()"
      ],
      "execution_count": null,
      "outputs": []
    },
    {
      "cell_type": "markdown",
      "metadata": {
        "id": "RmLCJDk2gjXK"
      },
      "source": [
        "Write a function `sim_matrices` that takes a graph and returns a tuple with similarity matrices:\n",
        "* Adjacency matrix\n",
        "* Pearson correlation\n",
        "* Jaccard similarity\n",
        "* Cosine similarity\n",
        "\n",
        "Look at networkx, sklearn, numpy."
      ]
    },
    {
      "cell_type": "code",
      "metadata": {
        "deletable": false,
        "nbgrader": {
          "cell_type": "code",
          "checksum": "a4675ca8cd1017e9253e288075ef2d94",
          "grade": false,
          "grade_id": "cell-573a4e98e9a01195",
          "locked": false,
          "schema_version": 3,
          "solution": true,
          "task": false
        },
        "id": "bPsLD-w8gjXK"
      },
      "source": [
        "def sim_matrices(G):\n",
        "    ### BEGIN SOLUTION\n",
        "    A = nx.to_numpy_array(G)\n",
        "    corr = np.corrcoef(A)\n",
        "    J = np.zeros(A.shape)\n",
        "    for i, j, c in nx.jaccard_coefficient(nx.from_numpy_array(A)):\n",
        "        J[i, j] = c\n",
        "        J[j, i] = c\n",
        "    cos = cosine_similarity(A)\n",
        "    return A, corr, J, cos\n",
        "    ### END SOLUTION"
      ],
      "execution_count": null,
      "outputs": []
    },
    {
      "cell_type": "code",
      "metadata": {
        "deletable": false,
        "editable": false,
        "nbgrader": {
          "cell_type": "code",
          "checksum": "940ac5f93c44c96f0dc7d8f121e0c7db",
          "grade": true,
          "grade_id": "cell-a9782cc7dfcdf06d",
          "locked": true,
          "points": 0,
          "schema_version": 3,
          "solution": false,
          "task": false
        },
        "id": "3IZKZ64vgjXL"
      },
      "source": [
        "A, corr, J, cos = sim_matrices(G)\n",
        "assert A.shape == corr.shape == J.shape == cos.shape == (34,34)\n",
        "assert A[0].sum() == 33\n",
        "assert corr[0].sum().round(4) == -2.5541\n",
        "assert J[1].sum().round(4) == 1.7667\n",
        "assert cos[0].sum().round(4) == 28.4601"
      ],
      "execution_count": null,
      "outputs": []
    },
    {
      "cell_type": "markdown",
      "metadata": {
        "id": "xEyHQGepgjXL"
      },
      "source": [
        "Let us draw heatmaps of these similarities."
      ]
    },
    {
      "cell_type": "code",
      "metadata": {
        "id": "vDP9nlWYgjXL"
      },
      "source": [
        "fig = plt.figure(figsize=(9, 9*4))\n",
        "plt.subplots_adjust(hspace=0.4, wspace=0.4)\n",
        "cases = [[1, A, plt.cm.Greys, 'Adjacency matrix'], \n",
        "         [2, corr, None, 'Pearson correlation'], \n",
        "         [3, J, None, 'Jaccard similarity'], \n",
        "         [4, cos, None, 'Cosine similarity'], ]\n",
        "for i, matrix, cmap, t in cases:\n",
        "    plt.subplot(4, 1, i)\n",
        "    hmap = sns.heatmap(\n",
        "        matrix,\n",
        "        cmap=cmap,\n",
        "        square=True,\n",
        "        yticklabels=[labs.get(i) for i in G.nodes])\n",
        "    hmap.set_xticklabels(\n",
        "        labels=[labs.get(i) for i in G.nodes], \n",
        "        rotation=45, \n",
        "        horizontalalignment='right')\n",
        "    plt.title(t)"
      ],
      "execution_count": null,
      "outputs": []
    },
    {
      "cell_type": "markdown",
      "metadata": {
        "id": "La87XdqrgjXL"
      },
      "source": [
        "### Task 5. Reordering of nodes (0 points)\n",
        "\n",
        "Without special preprocess procedures an adjacency matrix can look very noisy and hide network's structure. There are some procedures of node reordering that provides a better view of the network's adjacency matrix. Reverse Cuthill-McKee finds permutation of the nodes that minimizes the bandwidth of the matrix, which is calculated as\n",
        "\n",
        "$$ \\theta = \\max_{a_{ij} > 0}|i-j|$$\n",
        "\n",
        "Unformally, this algorithm puts some mass on the diagonal of adjacency matrix. \n",
        "\n",
        "Write a function `cm_order` that takes a graph and returns a np.array with a permutation of the form $[i_1, i_2, \\dots, i_n]$ where $i_1$ is an index of the first row and the first column.\n",
        "\n",
        "Apply `scipy.sparse.csgraph.reverse_cuthill_mckee` or `nx.utils.reverse_cuthill_mckee_ordering`."
      ]
    },
    {
      "cell_type": "code",
      "metadata": {
        "deletable": false,
        "nbgrader": {
          "cell_type": "code",
          "checksum": "b00bb7c47401a601c3121fcb9e59036b",
          "grade": false,
          "grade_id": "cell-aebff5f597011ed8",
          "locked": false,
          "schema_version": 3,
          "solution": true,
          "task": false
        },
        "id": "P4QRaRaagjXM"
      },
      "source": [
        "def cm_order(G):\n",
        "    ### BEGIN SOLUTION\n",
        "    A = nx.to_numpy_array(G)\n",
        "    return reverse_cuthill_mckee(csr_matrix(A), symmetric_mode=True)\n",
        "    ### END SOLUTION"
      ],
      "execution_count": null,
      "outputs": []
    },
    {
      "cell_type": "code",
      "metadata": {
        "deletable": false,
        "editable": false,
        "nbgrader": {
          "cell_type": "code",
          "checksum": "a85ab5d173aa581a9ca99f6e77fe57d9",
          "grade": true,
          "grade_id": "cell-3bfc3b5f9b286f1d",
          "locked": true,
          "points": 0,
          "schema_version": 3,
          "solution": false,
          "task": false
        },
        "id": "ZboFBAdMgjXM"
      },
      "source": [
        "order = cm_order(G)\n",
        "assert order.shape == (34,)\n",
        "assert order[4:6].sum() < order[:3].sum() < order[4:7].sum()"
      ],
      "execution_count": null,
      "outputs": []
    },
    {
      "cell_type": "markdown",
      "metadata": {
        "id": "QC0p8c_egjXM"
      },
      "source": [
        "Let us draw the heatmaps with a default and changed order side-by-side. A default order will be on the left, a changed order — on the right."
      ]
    },
    {
      "cell_type": "code",
      "metadata": {
        "id": "e-_IFh-lgjXM"
      },
      "source": [
        "fig = plt.figure(figsize=(16, 16*2))\n",
        "plt.subplots_adjust(hspace=0.4, wspace=0.4)\n",
        "\n",
        "cases = [[1, A, plt.cm.Greys, 'Adjacency', range(34)],\n",
        "         [2, A, plt.cm.Greys, 'Adjacency (reordered)', order],\n",
        "         [3, corr, None, 'Pearson correlation', range(34)], \n",
        "         [4, corr, None, 'Pearson correlation (reordered)', order], \n",
        "         [5, J, None, 'Jaccard similarity', range(34)], \n",
        "         [6, J, None, 'Jaccard similarity (reordered)', order], \n",
        "         [7, cos, None, 'Cosine similarity', range(34)], \n",
        "         [8, cos, None, 'Cosine similarity (reordered)', order]]\n",
        "\n",
        "newLabs = np.array([labs.get(i) for i in G.nodes])\n",
        "\n",
        "for i, matrix, cmap, t, o in cases:\n",
        "    plt.subplot(4, 2, i)\n",
        "    hmap = sns.heatmap(\n",
        "        matrix[np.ix_(o, o)],\n",
        "        cmap=cmap,\n",
        "        cbar=False,\n",
        "        square=True,\n",
        "        yticklabels=newLabs[o])\n",
        "    hmap.set_xticklabels(\n",
        "        labels=newLabs[o], \n",
        "        rotation=90)\n",
        "    plt.title(t)"
      ],
      "execution_count": null,
      "outputs": []
    },
    {
      "cell_type": "markdown",
      "metadata": {
        "id": "Ww2mGnlggjXN"
      },
      "source": [
        "We can observe that the right-hand heatmaps look smoother, and we can detect dense regions on them."
      ]
    },
    {
      "cell_type": "markdown",
      "metadata": {
        "id": "-UEZbEm9gjXN"
      },
      "source": [
        "### Task 6. Assortative Mixing (2 points)\n",
        "\n",
        "In this task, we look at the same dataset. One can find that graph have attribute `Genre`."
      ]
    },
    {
      "cell_type": "markdown",
      "metadata": {
        "id": "areEfZUTgjXO"
      },
      "source": [
        "Let us draw assortative mixing of a `Genre` attribute. How often persons from one house kills persons from another?\n",
        "\n",
        "Write a function `genre_mixing` that takes a graph `G` and returns tuple with a matrix of assortative mixing by a `Genre` attribute and a dictionary with mapping of the form\n",
        "* `{genre: index in the matrix}`"
      ]
    },
    {
      "cell_type": "code",
      "metadata": {
        "deletable": false,
        "nbgrader": {
          "cell_type": "code",
          "checksum": "9cf7b11e1f792471d0ea7b04e94728a4",
          "grade": false,
          "grade_id": "cell-79c873b1cebc9371",
          "locked": false,
          "schema_version": 3,
          "solution": true,
          "task": false
        },
        "id": "OtftcXtygjXO"
      },
      "source": [
        "def genre_mixing(G):\n",
        "    # YOUR CODE HERE\n",
        "    raise NotImplementedError()"
      ],
      "execution_count": null,
      "outputs": []
    },
    {
      "cell_type": "code",
      "metadata": {
        "deletable": false,
        "editable": false,
        "nbgrader": {
          "cell_type": "code",
          "checksum": "6adcbb206221375948846b2f9bb37095",
          "grade": true,
          "grade_id": "cell-fcea4b43c9640440",
          "locked": true,
          "points": 2,
          "schema_version": 3,
          "solution": false,
          "task": false
        },
        "id": "IHaF8pYxgjXP"
      },
      "source": [
        "mixing, mapping = genre_mixing(G)\n",
        "assert mixing.shape == (8, 8)\n",
        "assert mixing.max() < 0.08\n",
        "assert mixing.min() == 0\n",
        "assert mapping.get(\"Comedy\") is not None"
      ],
      "execution_count": null,
      "outputs": []
    },
    {
      "cell_type": "code",
      "metadata": {
        "id": "Ti2qno6dgjXP"
      },
      "source": [
        "fig = plt.figure(figsize=(8, 8))\n",
        "\n",
        "hmap = sns.heatmap(\n",
        "    mixing,\n",
        "    cbar=False,\n",
        "    annot=True,\n",
        "    square=True)\n",
        "hmap.set_xticklabels(\n",
        "    labels=[m for m in mapping], \n",
        "    rotation=45, \n",
        "    horizontalalignment='right')\n",
        "hmap.set_yticklabels(\n",
        "    labels=[m for m in mapping], \n",
        "    rotation=0)\n",
        "plt.show()"
      ],
      "execution_count": null,
      "outputs": []
    },
    {
      "cell_type": "code",
      "metadata": {
        "id": "gZ5biXlPgjXQ"
      },
      "source": [
        ""
      ],
      "execution_count": null,
      "outputs": []
    }
  ]
}