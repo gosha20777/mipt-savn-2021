{
  "nbformat": 4,
  "nbformat_minor": 0,
  "metadata": {
    "kernelspec": {
      "display_name": "Python 3",
      "language": "python",
      "name": "python3"
    },
    "language_info": {
      "codemirror_mode": {
        "name": "ipython",
        "version": 3
      },
      "file_extension": ".py",
      "mimetype": "text/x-python",
      "name": "python",
      "nbconvert_exporter": "python",
      "pygments_lexer": "ipython3",
      "version": "3.7.4"
    },
    "colab": {
      "name": "diffusion_epidemics.ipynb",
      "provenance": [],
      "collapsed_sections": [
        "3r5x72iooby8",
        "1-pvPRiQoby9",
        "bRPbRNXOoby_",
        "epvjqGntobzB",
        "xiyQllG8obzC",
        "aMC8sHd6obzD",
        "wL2o3uz-obzE",
        "yLav_6ZlobzG"
      ]
    }
  },
  "cells": [
    {
      "cell_type": "markdown",
      "metadata": {
        "id": "WN2fnx3Gobyx"
      },
      "source": [
        "# Assignment — Diffusions and Epidemics on Graphs"
      ]
    },
    {
      "cell_type": "code",
      "metadata": {
        "id": "id7yUnPQoby0"
      },
      "source": [
        "import numpy as np\n",
        "import matplotlib.pyplot as plt\n",
        "import networkx as nx\n",
        "from tqdm.notebook import trange\n",
        "from zlib import adler32"
      ],
      "execution_count": null,
      "outputs": []
    },
    {
      "cell_type": "markdown",
      "metadata": {
        "id": "qZ9gN58coby1"
      },
      "source": [
        "### Task 1. Diffusions on networks (0 points)"
      ]
    },
    {
      "cell_type": "markdown",
      "metadata": {
        "id": "ImFEltVNoby1"
      },
      "source": [
        "A diffusion process is a propagation model, where node values $\\phi$ (say, 'heat') spread out of high concentration zone. Consider the diffusion on grid of the size 20x20. Let there be a 3x3 sub-grid with a heat value 3 and a 7x5 sub-grid with a heat value 1. All other nodes has a value 0. The initial heat values is $\\phi_0$."
      ]
    },
    {
      "cell_type": "code",
      "metadata": {
        "id": "Nhb2J4D7oby2"
      },
      "source": [
        "phi_map = np.zeros((20, 20))\n",
        "phi_map[1:4, 1:4] = 3\n",
        "phi_map[10:15, 8:15] = 1\n",
        "phi0 = phi_map.flatten()"
      ],
      "execution_count": null,
      "outputs": []
    },
    {
      "cell_type": "code",
      "metadata": {
        "id": "thxPPochoby2"
      },
      "source": [
        "plt.figure(figsize=(7*0.7, 3*0.7))\n",
        "gridG = nx.grid_graph((20, 20))\n",
        "nx.draw_kamada_kawai(\n",
        "    gridG,\n",
        "    cmap=plt.cm.inferno_r,\n",
        "    vmin=0, vmax=3,\n",
        "    width=0,\n",
        "    node_size=40,\n",
        "    node_color=phi0)"
      ],
      "execution_count": null,
      "outputs": []
    },
    {
      "cell_type": "markdown",
      "metadata": {
        "id": "DnJaNTD1oby2"
      },
      "source": [
        "Create a diffusion simulation based on this diffusion equation\n",
        "\n",
        "$$\\frac{d\\phi}{dt} = -CL\\phi$$\n",
        "\n",
        "where $L$ is a graph Laplacian.\n",
        "\n",
        "Write a function `next_phi` that takes an adjacency matrix `A`, np.array with previous heat values `phi`, constant `C` and time increment `dt`. The function returns a np.array with the next heat values."
      ]
    },
    {
      "cell_type": "code",
      "metadata": {
        "deletable": false,
        "nbgrader": {
          "cell_type": "code",
          "checksum": "f1ae6723ed0fe6204738bfde1300ec10",
          "grade": false,
          "grade_id": "cell-f084b91a7a071038",
          "locked": false,
          "schema_version": 3,
          "solution": true,
          "task": false
        },
        "id": "FDpoZJJ7oby3"
      },
      "source": [
        "def next_phi(A, phi, C, dt):\n",
        "    ### BEGIN SOLUTION\n",
        "    D = np.diag(A.sum(axis=1))\n",
        "    L = D - A\n",
        "    d_phi = -C * L @ phi * dt\n",
        "    return phi + d_phi\n",
        "    ### END SOLUTION"
      ],
      "execution_count": null,
      "outputs": []
    },
    {
      "cell_type": "code",
      "metadata": {
        "deletable": false,
        "editable": false,
        "nbgrader": {
          "cell_type": "code",
          "checksum": "f1f11b0b7cd5753171371f242deaa90e",
          "grade": true,
          "grade_id": "cell-77fa8098bedb8168",
          "locked": true,
          "points": 0,
          "schema_version": 3,
          "solution": false,
          "task": false
        },
        "id": "Y4pgG35soby3"
      },
      "source": [
        "A = nx.to_numpy_array(gridG)\n",
        "C = 0.1\n",
        "dt = 2\n",
        "phi = next_phi(A, phi0, C, dt)\n",
        "assert phi.shape == (400,)\n",
        "assert phi.sum() == phi0.sum()\n",
        "assert phi.std() < phi0.sum()\n",
        "assert round(phi[20:25].sum(), 4) == 7.2"
      ],
      "execution_count": null,
      "outputs": []
    },
    {
      "cell_type": "code",
      "metadata": {
        "id": "NsTVc8acoby4"
      },
      "source": [
        "plt.figure(figsize=(7*2, 3*3))\n",
        "\n",
        "phi = phi0\n",
        "for i in range(6):\n",
        "    plt.subplot(3, 2, i+1)\n",
        "    gridG = nx.grid_graph((20, 20))\n",
        "    nx.draw_kamada_kawai(\n",
        "        gridG,\n",
        "        cmap=plt.cm.inferno_r,\n",
        "        vmin=0, vmax=3,\n",
        "        width=0,\n",
        "        node_size=40,\n",
        "        node_color=phi)\n",
        "    plt.title('t = {}'.format(i*dt))\n",
        "    phi = next_phi(A, phi, C, dt)\n",
        "phi12 = phi"
      ],
      "execution_count": null,
      "outputs": []
    },
    {
      "cell_type": "markdown",
      "metadata": {
        "id": "sAXXwaS2oby4"
      },
      "source": [
        "We can run simulation step-by-step as long as we need, but fortunately, there is an analytical solution\n",
        "\n",
        "$$\\phi(t) = \\sum_k a_k(t) v_k = \\sum_k a_k(0) e^{-C\\lambda_k t} v_k$$\n",
        "\n",
        "where $a_k(t) = \\phi(t)^T v_k$ and $v_k$ is k-th smallest eigenvector of a Laplacian.\n",
        "\n",
        "Write a function `phi_t` that takes an adjacency matrix `A`, np.array with initial heat values `phi0`, constant `C` and time moment `t`. The function returns a np.array with the heat values at time moment `t`. Use `np.linalg.eigh` or `scipy.linalg.eigh` for a symmetric matrix."
      ]
    },
    {
      "cell_type": "code",
      "metadata": {
        "deletable": false,
        "nbgrader": {
          "cell_type": "code",
          "checksum": "3447b53bce3c5f3d50c6516d67bd24fa",
          "grade": false,
          "grade_id": "cell-aed913bdee3b3d1b",
          "locked": false,
          "schema_version": 3,
          "solution": true,
          "task": false
        },
        "id": "BKKFFF1Doby5"
      },
      "source": [
        "def phi_t(A, phi0, C, t):\n",
        "    ### BEGIN SOLUTION\n",
        "    D = np.diag(A.sum(axis=1))\n",
        "    L = D - A\n",
        "    vals, vecs = np.linalg.eigh(L)\n",
        "    vals = vals[np.argsort(vals)]\n",
        "    vecs = vecs[:, np.argsort(vals)]\n",
        "    return ((phi0 @ vecs) * np.exp(-C * vals * t) * vecs).sum(axis=1)\n",
        "    ### END SOLUTION"
      ],
      "execution_count": null,
      "outputs": []
    },
    {
      "cell_type": "code",
      "metadata": {
        "deletable": false,
        "editable": false,
        "nbgrader": {
          "cell_type": "code",
          "checksum": "e1d8d7baf5c38ab524850b88ffbfef86",
          "grade": true,
          "grade_id": "cell-16e1ff822aa555a5",
          "locked": true,
          "points": 0,
          "schema_version": 3,
          "solution": false,
          "task": false
        },
        "id": "D5m2KZeVoby5"
      },
      "source": [
        "assert phi_t(A, phi0, C, 0).shape == (400,)\n",
        "assert round(np.linalg.norm(phi0 - phi_t(A, phi0, C, 0)), 4) == 0\n",
        "assert round(np.linalg.norm(phi12 - phi_t(A, phi0, C, 12)), 4) < 0.4\n",
        "assert len(np.unique(phi_t(A, phi0, C, 10000).round(4))) == 1\n",
        "assert phi_t(A, phi0, C, 10000).round(4)[0] == phi0.sum() / len(phi0)"
      ],
      "execution_count": null,
      "outputs": []
    },
    {
      "cell_type": "code",
      "metadata": {
        "id": "obZDy5Cioby6"
      },
      "source": [
        "plt.figure(figsize=(7*2, 3*2))\n",
        "i = 1\n",
        "for t in [10, 20, 50, 100]:\n",
        "    plt.subplot(2, 2, i)\n",
        "    gridG = nx.grid_graph((20, 20))\n",
        "    nx.draw_kamada_kawai(\n",
        "        gridG,\n",
        "        cmap=plt.cm.inferno_r,\n",
        "        vmin=0, vmax=3,\n",
        "        width=0,\n",
        "        node_size=40,\n",
        "        node_color=phi_t(A, phi0, C, t))\n",
        "    plt.title('t = {}'.format(t))\n",
        "    i += 1"
      ],
      "execution_count": null,
      "outputs": []
    },
    {
      "cell_type": "markdown",
      "metadata": {
        "id": "CXfFmaqSoby6"
      },
      "source": [
        "### Task 2. SI model (0 points)"
      ]
    },
    {
      "cell_type": "markdown",
      "metadata": {
        "id": "Ze0xELvwoby6"
      },
      "source": [
        "Consider a simple model of an epidemic — SI model. S — susceptible, I — infectious. Initialy we only have a few infected persons and all others are susceptible. Then some susceptible people become infected with infection rate $\\beta$. The model is defined as follows:\n",
        "\n",
        "Dynamic form\n",
        "\n",
        "$$S \\underset{\\beta SI}{\\to} I$$\n",
        "\n",
        "Equation form\n",
        "\n",
        "$$\\frac{dI}{dt} = \\beta \\frac{S}{N}I$$\n",
        "\n",
        "$$S + I = N$$\n",
        "\n",
        "where $N$ is the total population.\n",
        "\n",
        "Write a function `si_epidemic` that takes the total population `total`, number of infected people `I0`, infected rate `beta`, time increment `dt`, number of iterations `k` and returns a returns np.array with solution of the form `[[S0, I0], [S1, I1], ...]` so that number of rows is k+1."
      ]
    },
    {
      "cell_type": "code",
      "metadata": {
        "deletable": false,
        "nbgrader": {
          "cell_type": "code",
          "checksum": "98e0c3bea693bf84a419664ec1bc43e8",
          "grade": false,
          "grade_id": "cell-e2b1ffa27b6efcb5",
          "locked": false,
          "schema_version": 3,
          "solution": true,
          "task": false
        },
        "id": "zX4Rp3yaoby7"
      },
      "source": [
        "def si_epidemic(total, I0, beta, dt, k):\n",
        "    ### BEGIN SOLUTION\n",
        "    res = [[total - I0, I0]]\n",
        "    S, I = res[-1]\n",
        "    for _ in range(k):\n",
        "        dI = beta * S / total * I * dt\n",
        "        I += dI\n",
        "        S = total - I\n",
        "        res.append([S, I])\n",
        "    return np.array(res)\n",
        "    ### END SOLUTION"
      ],
      "execution_count": null,
      "outputs": []
    },
    {
      "cell_type": "code",
      "metadata": {
        "deletable": false,
        "editable": false,
        "nbgrader": {
          "cell_type": "code",
          "checksum": "5d0453dfd10d806d6aea276075cf36b7",
          "grade": true,
          "grade_id": "cell-e17107636e2ee9ea",
          "locked": true,
          "points": 0,
          "schema_version": 3,
          "solution": false,
          "task": false
        },
        "id": "ppye2nXIoby7"
      },
      "source": [
        "solution = si_epidemic(total=1000, I0=1, beta=0.3, dt=0.5, k=130-1)\n",
        "assert solution.shape == (130, 2)\n",
        "assert np.all(solution[0] == [999, 1])\n",
        "assert np.all(solution[10].round(2) == [995.97, 4.03])\n",
        "assert np.all(solution[-1].round(2) == [0, 1000])\n",
        "assert adler32(str(solution[100].round(2)[0]).encode()) == 32047304"
      ],
      "execution_count": null,
      "outputs": []
    },
    {
      "cell_type": "code",
      "metadata": {
        "id": "Ex95tEFMoby8"
      },
      "source": [
        "plt.plot(solution)\n",
        "plt.legend(['S', 'I'])\n",
        "plt.title('SI model, infected rate is 0.3')\n",
        "plt.xlabel('time')\n",
        "plt.ylabel('population')\n",
        "plt.show()"
      ],
      "execution_count": null,
      "outputs": []
    },
    {
      "cell_type": "markdown",
      "metadata": {
        "id": "Z_5oys3eoby8"
      },
      "source": [
        "Let us look at the plot of epidemic dynamics with the same setup but $\\beta = 0.1$."
      ]
    },
    {
      "cell_type": "code",
      "metadata": {
        "id": "HSQW3zOZoby8"
      },
      "source": [
        "solution = si_epidemic(total=1000, I0=1, beta=0.1, dt=0.5, k=130-1)\n",
        "plt.plot(solution)\n",
        "plt.legend(['S', 'I'])\n",
        "plt.title('SI model, infected rate is 0.1')\n",
        "plt.xlabel('time')\n",
        "plt.ylabel('population')\n",
        "plt.show()"
      ],
      "execution_count": null,
      "outputs": []
    },
    {
      "cell_type": "markdown",
      "metadata": {
        "id": "3r5x72iooby8"
      },
      "source": [
        "### Task 3. Numerical vs analytical solution of SI model (1.5 points)"
      ]
    },
    {
      "cell_type": "markdown",
      "metadata": {
        "id": "6ZrpaGuxoby9"
      },
      "source": [
        "The SI model has an analytical solution\n",
        "\n",
        "$$i(t) = \\frac{i_0}{i_0 + (1 - i_0)e^{-\\beta t}}$$\n",
        "\n",
        "where $i(t)$ is the share of infected people at time moment $t$. Let us compare the analytical solution and Euler method.\n",
        "\n",
        "Write a function `si_epidemic_analytically` that takes the total population `total`, number of infected people `I0`, infected rate `beta`, time increment `dt`, number of iterations `k` and returns np.array `[[S0, I0], [S1, I1], ...]` is an analytical solution so that number of rows is `k+1`."
      ]
    },
    {
      "cell_type": "code",
      "metadata": {
        "deletable": false,
        "nbgrader": {
          "cell_type": "code",
          "checksum": "818992273d73810cc4fed72ce777837e",
          "grade": false,
          "grade_id": "cell-0f02d04eb19a8af6",
          "locked": false,
          "schema_version": 3,
          "solution": true,
          "task": false
        },
        "id": "c_QgnlELoby9"
      },
      "source": [
        "def si_epidemic_analytically(total, I0, beta, dt, k):\n",
        "    # YOUR CODE HERE\n",
        "    raise NotImplementedError()"
      ],
      "execution_count": null,
      "outputs": []
    },
    {
      "cell_type": "code",
      "metadata": {
        "deletable": false,
        "editable": false,
        "nbgrader": {
          "cell_type": "code",
          "checksum": "8a2f4795a21279914d83a1b3db4acc69",
          "grade": true,
          "grade_id": "cell-2abb7e112d301cfb",
          "locked": true,
          "points": 1.5,
          "schema_version": 3,
          "solution": false,
          "task": false
        },
        "id": "fhcM4NTZoby9"
      },
      "source": [
        "analytical_solution = si_epidemic_analytically(total=1000, I0=1, beta=0.3, dt=0.5, k=130-1)\n",
        "assert analytical_solution.shape == (130, 2)\n",
        "assert np.all(analytical_solution[0] == [999, 1])\n",
        "assert np.all(analytical_solution[10].round(2) == [995.53, 4.47])\n",
        "assert np.all(analytical_solution[-1].round(2) == [0, 1000])\n",
        "assert adler32(str(analytical_solution[100].round(2)[0]).encode()) == 31785155"
      ],
      "execution_count": null,
      "outputs": []
    },
    {
      "cell_type": "code",
      "metadata": {
        "id": "RREiNMTSoby9"
      },
      "source": [
        "solution = si_epidemic(total=1000, I0=1, beta=0.2, dt=0.5, k=130-1)\n",
        "analytical_solution = si_epidemic_analytically(total=1000, I0=1, beta=0.2, dt=0.5, k=130-1)\n",
        "plt.plot(solution[:, 1], label='I, numerical solution')\n",
        "plt.plot(analytical_solution[:, 1], label='I, analytical solution')\n",
        "plt.legend()\n",
        "plt.title('SI model, infected rate is 0.3')\n",
        "plt.xlabel('time')\n",
        "plt.ylabel('population')\n",
        "plt.show()"
      ],
      "execution_count": null,
      "outputs": []
    },
    {
      "cell_type": "markdown",
      "metadata": {
        "id": "1-pvPRiQoby9"
      },
      "source": [
        "### Task 4. SIS model (1.5 points)"
      ]
    },
    {
      "cell_type": "markdown",
      "metadata": {
        "id": "JdHqfCgeoby-"
      },
      "source": [
        "Next, consider SIS model. S — susceptible, I — infectious. At the next time moment, some susceptible people become infected with infection rate $\\beta$ and some infected people become susceptible with recovery rate $\\gamma$. The model is defined as follows:\n",
        "\n",
        "Dynamic form\n",
        "\n",
        "$$S \\underset{\\beta S I}{\\to} I \\underset{\\gamma I}{\\to} S$$\n",
        "\n",
        "Equation form\n",
        "\n",
        "$$\\frac{dI}{dt} = \\beta \\frac{S}{N}I - \\gamma I$$\n",
        "\n",
        "$$S + I = N$$\n",
        "\n",
        "where $N$ is the total population. \n",
        "\n",
        "Write a function `sis_epidemic` that takes the total population `total`, number of infected people `I0`, infected rate `beta`, recovery rate `gamma`, time increment `dt`, number of iterations `k` and returns a solution of the form of a np.array\n",
        "\n",
        "`[[S0, I0], [S1, I1], ...]`\n",
        "\n",
        "so that number of rows is `k+1`."
      ]
    },
    {
      "cell_type": "code",
      "metadata": {
        "deletable": false,
        "nbgrader": {
          "cell_type": "code",
          "checksum": "5662ff3fc74904d933fabcc4a41b9a85",
          "grade": false,
          "grade_id": "cell-c2dd6ac011d8b8e6",
          "locked": false,
          "schema_version": 3,
          "solution": true,
          "task": false
        },
        "id": "eRgy21s9oby-"
      },
      "source": [
        "def sis_epidemic(total, I0, beta, gamma, dt, k):\n",
        "    # YOUR CODE HERE\n",
        "    raise NotImplementedError()"
      ],
      "execution_count": null,
      "outputs": []
    },
    {
      "cell_type": "code",
      "metadata": {
        "deletable": false,
        "editable": false,
        "nbgrader": {
          "cell_type": "code",
          "checksum": "3c7a20bfca851295a5e590938df69991",
          "grade": true,
          "grade_id": "cell-f63bbbea1c0f44c7",
          "locked": true,
          "points": 1.5,
          "schema_version": 3,
          "solution": false,
          "task": false
        },
        "id": "PxZEko0Ioby-"
      },
      "source": [
        "total = 1000\n",
        "beta, gamma = 0.3, 0.1\n",
        "solution = sis_epidemic(total=total, I0=100, beta=beta, gamma=gamma, dt=0.2, k=600-1)\n",
        "assert solution.shape == (600, 2)\n",
        "assert np.all(solution[0] == [900, 100])\n",
        "assert np.all(solution[10].round(2) == [861.63, 138.37])\n",
        "assert solution[-1, 1].round(2) == round((1 - gamma / beta) * total, 2)\n",
        "assert adler32(str(solution[100].round(2)[0]).encode()) == 72548667"
      ],
      "execution_count": null,
      "outputs": []
    },
    {
      "cell_type": "markdown",
      "metadata": {
        "id": "KUiaaeQKoby-"
      },
      "source": [
        "Here is the critical point for a basic reproduction number $R_0 = \\beta / \\gamma$\n",
        "\n",
        "* If $R_0 > 1$: Endemic State,  $i(+\\infty) \\to (1 - \\gamma / \\beta)$\n",
        "* If $R_0 < 1$: Disease-free State, $i(+\\infty) \\to 0$\n",
        "\n",
        "where $i(t)$ is the share of infected people at the time moment $t$."
      ]
    },
    {
      "cell_type": "code",
      "metadata": {
        "id": "6wMaG9syoby_"
      },
      "source": [
        "plt.plot(solution)\n",
        "limit = (1 - gamma / beta) * total\n",
        "plt.plot([0, 600], [limit, limit], '--', c='black')\n",
        "plt.legend(['S', 'I', 'N(1 - gamma / beta)'])\n",
        "plt.title('SIS model, Endemic State, R_0 is {:.2f}'.format(beta / gamma))\n",
        "plt.xlabel('time')\n",
        "plt.ylabel('population')\n",
        "plt.show()"
      ],
      "execution_count": null,
      "outputs": []
    },
    {
      "cell_type": "code",
      "metadata": {
        "id": "kuB6pM_poby_"
      },
      "source": [
        "beta, gamma = 0.1, 0.3\n",
        "solution = sis_epidemic(total=total, I0=100, beta=beta, gamma=gamma, dt=0.2, k=100-1)\n",
        "plt.plot(solution)\n",
        "limit = (1 - gamma / beta) * total\n",
        "plt.legend(['S', 'I'])\n",
        "plt.title('SIS model, Disease-free State, R_0 is {:.2f}'.format(beta / gamma))\n",
        "plt.xlabel('time')\n",
        "plt.ylabel('population')\n",
        "plt.show()"
      ],
      "execution_count": null,
      "outputs": []
    },
    {
      "cell_type": "markdown",
      "metadata": {
        "id": "bRPbRNXOoby_"
      },
      "source": [
        "### Task 5. Probabilistic node-level models. SIS (0 points)\n",
        "\n",
        "Let us consider epidemic models on networks. SIS model is described by a dynamic form\n",
        "\n",
        "$$S \\to_{\\beta SI} I \\to_{\\gamma I} S$$\n",
        "\n",
        "To model epidemics on networks, we need to use probabilistic approach. First, let us define a function that gives us a random sample of available nodes by given probability.\n",
        "\n",
        "Here is a function `select_nodes` that takes a np.array `vec`, where an i-th element is a number of neighbors that can affect to i-th node with probability `proba`. For example, `vec` can represent the number of infected neighbors, say [0, 2, 1] and then the probability is an infected rate $\\beta$. That means the first node has no infected neighbors, the second has two infected neighbors, the third has one infected neighbor. Thereby, the second node has a $(1 - (1-\\beta)^2)$ probability of getting infected."
      ]
    },
    {
      "cell_type": "code",
      "metadata": {
        "id": "vwBqF39Coby_"
      },
      "source": [
        "def select_nodes(vec, proba):\n",
        "    sample = np.random.rand(len(vec))\n",
        "    res = sample < (1 - (1 - proba)**vec)\n",
        "    return res.astype('int')"
      ],
      "execution_count": null,
      "outputs": []
    },
    {
      "cell_type": "markdown",
      "metadata": {
        "id": "0AA4l9g_oby_"
      },
      "source": [
        "Let us infect a few random nodes and simulate a propogation of an epidemic.\n",
        "\n",
        "Write a function `sis_networks` that takes a graph `G`, np.array with an initial indicator vector `S` where `S[i]` is 1 if i-th node is susceptible and 0 otherwise (the same for `I`). Any node must be susceptible or infected at any step. Also the function takes rates `beta`, `gamma`, number of steps `k`. The function returns a np.array of shape `(k+1, 2, n)` where `n` is a number of nodes. At i-th step, the matrix `result[i, :, :]` contains indicator `S` in the first column and `I` in the second.\n",
        "\n",
        "_Hint: to calculate the number of infected neighbors, use `I @ A * S`_"
      ]
    },
    {
      "cell_type": "code",
      "metadata": {
        "deletable": false,
        "nbgrader": {
          "cell_type": "code",
          "checksum": "e2ba308354e47b60dfab4f0157cd6086",
          "grade": false,
          "grade_id": "cell-ef6a0916349c86dd",
          "locked": false,
          "schema_version": 3,
          "solution": true,
          "task": false
        },
        "id": "ij4tWiZuobzA"
      },
      "source": [
        "def sis_networks(G, S, I, beta, gamma, k):\n",
        "    ### BEGIN SOLUTION\n",
        "    A = nx.to_numpy_array(G)\n",
        "    epidemic = []\n",
        "    epidemic.append([S, I])\n",
        "    for _ in range(k):\n",
        "        dI = select_nodes(I @ A * S, beta) - select_nodes(I, gamma)\n",
        "        I = I + dI\n",
        "        S = 1 - I\n",
        "        epidemic.append([S, I])\n",
        "    return np.array(epidemic)\n",
        "    ### END SOLUTION"
      ],
      "execution_count": null,
      "outputs": []
    },
    {
      "cell_type": "code",
      "metadata": {
        "deletable": false,
        "editable": false,
        "nbgrader": {
          "cell_type": "code",
          "checksum": "a1b59c9931449994560815b47927547c",
          "grade": true,
          "grade_id": "cell-5cf71c10ff7077f8",
          "locked": true,
          "points": 0,
          "schema_version": 3,
          "solution": false,
          "task": false
        },
        "id": "xP1V78U-obzA"
      },
      "source": [
        "G = nx.barabasi_albert_graph(50, 3, seed=0)\n",
        "\n",
        "I = np.zeros(len(G))\n",
        "I[:3] = 1\n",
        "S = 1 - I\n",
        "beta = 0.2\n",
        "gamma = 0.2\n",
        "\n",
        "epidemic = sis_networks(G, S, I, beta, gamma, 100)\n",
        "assert epidemic.sum() == 5050\n",
        "assert epidemic.shape == (101, 2, 50)\n",
        "assert (epidemic.sum(axis=1) == 1).sum() == 5050\n",
        "sigma = 6.3853\n",
        "mean = 16.0198\n",
        "assert mean - 2*sigma < round(epidemic.sum(axis=2)[:, 0].mean(), 4) < mean + 2*sigma\n",
        "sigma = 5.953\n",
        "mean = 34.2178\n",
        "assert mean - 2*sigma < round(epidemic.sum(axis=2)[:, 1].mean(), 4) < mean + 2*sigma"
      ],
      "execution_count": null,
      "outputs": []
    },
    {
      "cell_type": "code",
      "metadata": {
        "id": "WOeNH_O0obzA"
      },
      "source": [
        "plt.plot(epidemic.sum(axis=2))\n",
        "plt.legend(['S', 'I']);"
      ],
      "execution_count": null,
      "outputs": []
    },
    {
      "cell_type": "code",
      "metadata": {
        "id": "xlqaUgbaobzA"
      },
      "source": [
        "plt.figure(figsize=(7*2, 5*3))\n",
        "pos = nx.kamada_kawai_layout(G)\n",
        "i = 1\n",
        "for S, I in epidemic[:6]:\n",
        "    plt.subplot(3, 2, i)\n",
        "    nodes = nx.draw_networkx_nodes(G, pos, \n",
        "            node_size=400,\n",
        "            node_color=I+1, \n",
        "            vmin=0, vmax=2, \n",
        "            cmap=plt.cm.rainbow,\n",
        "            edgecolors='black')\n",
        "    nx.draw_networkx_edges(G, pos,\n",
        "            width=0.5,\n",
        "            node_size=400)\n",
        "    nx.draw_networkx_labels(G, pos)\n",
        "    plt.title('Step {}'.format(i))\n",
        "    plt.legend(nodes.legend_elements()[0], ['Susceptible', 'Infected'])\n",
        "    plt.axis('off')\n",
        "    i += 1"
      ],
      "execution_count": null,
      "outputs": []
    },
    {
      "cell_type": "markdown",
      "metadata": {
        "id": "epvjqGntobzB"
      },
      "source": [
        "### Task 6. Probabilistic node-level models. SIRS (1.5 points)\n",
        "\n",
        "Let us implement SIRS node-level model\n",
        "$$S \\to_{\\beta SI} I \\to_{\\gamma I} R \\to_{\\delta R} S$$\n",
        "\n",
        "Write a function `sirs_networks` that takes a graph `G`, np.array with initial indicator `S` where `S[i]` is 1 if i-th node is susceptible and 0 otherwise (the same for `I` and `R`). Also the function takes rates `beta`, `gamma`, `delta`, number of steps `k`. The function returns a np.array of shape `(k+1, 3, n)` where `n` is a number of nodes. At i-th step, the matrix `result[i, :, :]` contains indicator `S` in the first column, `I` in the second, `R` in the third."
      ]
    },
    {
      "cell_type": "code",
      "metadata": {
        "deletable": false,
        "nbgrader": {
          "cell_type": "code",
          "checksum": "b6363c1341ac751bb4b138825869590a",
          "grade": false,
          "grade_id": "cell-019204d21b0147e4",
          "locked": false,
          "schema_version": 3,
          "solution": true,
          "task": false
        },
        "id": "4zvLC0qlobzB"
      },
      "source": [
        "def sirs_networks(G, S, I, R, beta, gamma, delta, k):\n",
        "    # YOUR CODE HERE\n",
        "    raise NotImplementedError()"
      ],
      "execution_count": null,
      "outputs": []
    },
    {
      "cell_type": "code",
      "metadata": {
        "deletable": false,
        "editable": false,
        "nbgrader": {
          "cell_type": "code",
          "checksum": "0082ef048243c8da492d3f03d0b4f749",
          "grade": true,
          "grade_id": "cell-09257c476b1763a0",
          "locked": true,
          "points": 1.5,
          "schema_version": 3,
          "solution": false,
          "task": false
        },
        "id": "be1tcQZ5obzB"
      },
      "source": [
        "G = nx.barabasi_albert_graph(40, 3, seed=0)\n",
        "I = np.zeros(len(G))\n",
        "I[:3] = 1\n",
        "S = 1 - I\n",
        "R = np.zeros(len(G))\n",
        "\n",
        "beta = 0.1\n",
        "gamma = 0.3\n",
        "delta = 0.1\n",
        "\n",
        "epidemic = sirs_networks(G, S, I, R, beta, gamma, delta, 200)\n",
        "assert epidemic.shape == (201, 3, 40)\n",
        "assert (epidemic.sum(axis=1) == 1).sum() == 8040\n",
        "assert (epidemic[200].sum(axis=1) == [40, 0, 0]).sum() == 3\n",
        "\n",
        "for k in range(6):\n",
        "    for node in G.nodes:\n",
        "        if epidemic[k, 0, node] > epidemic[k+1, 0, node]:\n",
        "            assert epidemic[k+1, 1, node] == 1\n",
        "            neighbors = np.array([n for n in G.neighbors(node)])\n",
        "            assert epidemic[k, 1][neighbors].sum()\n",
        "        elif epidemic[k, 1, node] > epidemic[k+1, 1, node]:\n",
        "            assert epidemic[k+1, 2, node] == 1\n",
        "        elif epidemic[k, 2, node] > epidemic[k+1, 2, node]:\n",
        "            assert epidemic[k+1, 0, node] == 1"
      ],
      "execution_count": null,
      "outputs": []
    },
    {
      "cell_type": "code",
      "metadata": {
        "id": "Q0NB4Aq1obzB"
      },
      "source": [
        "plt.plot(epidemic.sum(axis=2))\n",
        "plt.legend(['S', 'I', 'R']);"
      ],
      "execution_count": null,
      "outputs": []
    },
    {
      "cell_type": "code",
      "metadata": {
        "id": "JUoTt6KTobzC"
      },
      "source": [
        "plt.figure(figsize=(7*2, 5*3))\n",
        "pos = nx.kamada_kawai_layout(G)\n",
        "i = 1\n",
        "for S, I, R in epidemic[:6]:\n",
        "    plt.subplot(3, 2, i)\n",
        "    nodes = nx.draw_networkx_nodes(G, pos, \n",
        "            node_size=400,\n",
        "            node_color=(S + I*2), \n",
        "            vmin=0, vmax=2, \n",
        "            cmap=plt.cm.rainbow,\n",
        "            edgecolors='black')\n",
        "    nx.draw_networkx_edges(G, pos,\n",
        "            width=0.5,\n",
        "            node_size=400)\n",
        "    nx.draw_networkx_labels(G, pos)\n",
        "    plt.title('Step {}'.format(i))\n",
        "    if len(nodes.legend_elements()[0]) == 2:\n",
        "        plt.legend(\n",
        "            nodes.legend_elements()[0], \n",
        "            ['Susceptible', 'Infected'])\n",
        "    else:\n",
        "        plt.legend(\n",
        "            nodes.legend_elements()[0], \n",
        "            ['Recovered', 'Susceptible', 'Infected'])\n",
        "    plt.axis('off')\n",
        "    i += 1"
      ],
      "execution_count": null,
      "outputs": []
    },
    {
      "cell_type": "markdown",
      "metadata": {
        "id": "iCUiLuuzobzC"
      },
      "source": [
        "We can also can model \"the second waves\" using delta parameter"
      ]
    },
    {
      "cell_type": "code",
      "metadata": {
        "id": "7-3VjBwsobzC"
      },
      "source": [
        "G = nx.barabasi_albert_graph(1000, 3, seed=0)\n",
        "\n",
        "I = np.zeros(len(G))\n",
        "I[0] = 1\n",
        "S = 1 - I\n",
        "R = np.zeros(len(G))\n",
        "\n",
        "epidemic = sirs_networks(G, S, I, R, 0.3, 0.4, 0.07, 100)\n",
        "plt.plot(epidemic.sum(axis=2))\n",
        "plt.legend(['S', 'I', 'R']);"
      ],
      "execution_count": null,
      "outputs": []
    },
    {
      "cell_type": "markdown",
      "metadata": {
        "id": "xiyQllG8obzC"
      },
      "source": [
        "### Task 7. Random Immunization for SIS model  (1.5 point)\n",
        "\n",
        "Immunization strategies specify how vaccines, treatments or drugs are distributed in the population. Ideally, should a treatment or vaccine exist, it should be given to every infected individual or those at risk of contracting the pathogen.\n",
        "However, it is costly to vaccinate all risky people. Given these constraints, immunization strategies aim to minimize the threat of a pandemic by most effectively distributing the available vaccines or treatments.\n",
        "\n",
        "The general idea of immunization is to reduce infected rate $\\beta$ to critical point. So the virus naturally dies out.\n",
        "\n",
        "The immune nodes are invisible for the virus. So `randomly_immunized_sis_model` should work in following pipeline:\n",
        "\n",
        "1. Select share `g` of nodes randomly (round number of selected nodes with int function)\n",
        "2. Remove all edges adjacent to selected nodes\n",
        "3. Run `sis_networks` model\n",
        "4. Add removed edges\n",
        "\n",
        "The `randomly_immunized_sis_model` method should return tuple with np.array of immunized nodes and output of `sis_networks` model for immunized graph.\n",
        "\n",
        "_Hint: use `np.random.choice` to select random subsample_"
      ]
    },
    {
      "cell_type": "code",
      "metadata": {
        "deletable": false,
        "nbgrader": {
          "cell_type": "code",
          "checksum": "a2b400a0612bb395a329a317ab27f32a",
          "grade": false,
          "grade_id": "cell-bc1bec0a8c4d951e",
          "locked": false,
          "schema_version": 3,
          "solution": true,
          "task": false
        },
        "id": "-IBcnPh-obzC"
      },
      "source": [
        "def randomly_immunized_sis_model(g, G, S, I, beta, gamma, k):\n",
        "    # YOUR CODE HERE\n",
        "    raise NotImplementedError()"
      ],
      "execution_count": null,
      "outputs": []
    },
    {
      "cell_type": "code",
      "metadata": {
        "deletable": false,
        "editable": false,
        "nbgrader": {
          "cell_type": "code",
          "checksum": "71e44f5616cea31ce67b0cf07e1bd77b",
          "grade": true,
          "grade_id": "cell-9f4b83c197371ffc",
          "locked": true,
          "points": 1.5,
          "schema_version": 3,
          "solution": false,
          "task": false
        },
        "id": "DiGd7eEVobzD"
      },
      "source": [
        "G = nx.barabasi_albert_graph(50, 3, seed=0)\n",
        "\n",
        "I = np.zeros(len(G))\n",
        "I[:3] = 1\n",
        "S = 1 - I\n",
        "beta = 0.2\n",
        "gamma = 0.1\n",
        "g = 0.5\n",
        "\n",
        "immune, epidemic = randomly_immunized_sis_model(g, G, S, I, beta, gamma, 100)\n",
        "assert epidemic.sum() == 5050\n",
        "assert epidemic.shape == (101, 2, 50)\n",
        "assert (epidemic.sum(axis=1) == 1).sum() == 5050"
      ],
      "execution_count": null,
      "outputs": []
    },
    {
      "cell_type": "code",
      "metadata": {
        "id": "EyprYiB5obzD"
      },
      "source": [
        "plt.figure(figsize=(7*2, 5*3))\n",
        "pos = nx.kamada_kawai_layout(G)\n",
        "i = 1\n",
        "for S, I in epidemic[:6]:\n",
        "    colors = I + 1\n",
        "    colors[immune] = -1\n",
        "    plt.subplot(3, 2, i)\n",
        "    nodes = nx.draw_networkx_nodes(G, pos, \n",
        "            node_size=400,\n",
        "            node_color=colors, \n",
        "            vmin=0, vmax=2, \n",
        "            cmap=plt.cm.rainbow,\n",
        "            edgecolors='black')\n",
        "    nx.draw_networkx_edges(G, pos,\n",
        "            width=0.5,\n",
        "            node_size=400)\n",
        "    nx.draw_networkx_labels(G, pos)\n",
        "    plt.title('Step {}'.format(i))\n",
        "    plt.legend(nodes.legend_elements()[0], ['Immune', 'Susceptible', 'Infected'])\n",
        "    plt.axis('off')\n",
        "    i += 1"
      ],
      "execution_count": null,
      "outputs": []
    },
    {
      "cell_type": "code",
      "metadata": {
        "id": "ZTFWjthMobzD"
      },
      "source": [
        "for i in range(1, 20, 5):\n",
        "    immune, epidemic = randomly_immunized_sis_model(i / 20, G, S, I, beta, gamma, 200)\n",
        "    plt.plot(epidemic.mean(axis=2))\n",
        "    plt.title(f\"SIS random immunization with rate {i / 20}\")\n",
        "    plt.legend(['S', 'I'])\n",
        "    plt.ylim(0, 1)\n",
        "    plt.show()"
      ],
      "execution_count": null,
      "outputs": []
    },
    {
      "cell_type": "markdown",
      "metadata": {
        "id": "aMC8sHd6obzD"
      },
      "source": [
        "### Task 8. Selective Immunization for SIS (1.5 points)\n",
        "\n",
        "The random immunization can help, but requires a large part of population to be vaccinized.\n",
        "So we can propose the better immunization strategy named `Selective Immunization`.\n",
        "\n",
        "The general idea of Selective Immuzation is to immunize hubs (nodes with the largest degree).\n",
        "\n",
        "Here you need to define function `selectively_immunized_sis_model`. It works similar to the `randomly_immunized_sis_model`:\n",
        "\n",
        "1. Select a part `g` of nodes with highest degree\n",
        "2. Remove all edges adjacent to selected nodes\n",
        "3. Run `sis_networks` model\n",
        "4. Add removed edges"
      ]
    },
    {
      "cell_type": "code",
      "metadata": {
        "deletable": false,
        "nbgrader": {
          "cell_type": "code",
          "checksum": "74ab68ffe70d3899b58250630fbe65b1",
          "grade": false,
          "grade_id": "cell-d820db5de6d03db3",
          "locked": false,
          "schema_version": 3,
          "solution": true,
          "task": false
        },
        "id": "nqhZW-clobzD"
      },
      "source": [
        "def selectively_immunized_sis_model(g, G, S, I, beta, gamma, k):\n",
        "    # YOUR CODE HERE\n",
        "    raise NotImplementedError()"
      ],
      "execution_count": null,
      "outputs": []
    },
    {
      "cell_type": "code",
      "metadata": {
        "deletable": false,
        "editable": false,
        "nbgrader": {
          "cell_type": "code",
          "checksum": "da5a2a54f8ea331e50ab27ef2773cd81",
          "grade": true,
          "grade_id": "cell-de06ac7069acd130",
          "locked": true,
          "points": 1.5,
          "schema_version": 3,
          "solution": false,
          "task": false
        },
        "id": "8UFYY2P2obzD"
      },
      "source": [
        "G = nx.barabasi_albert_graph(50, 3, seed=0)\n",
        "\n",
        "I = np.zeros(len(G))\n",
        "I[:3] = 1\n",
        "S = 1 - I\n",
        "beta = 0.2\n",
        "gamma = 0.1\n",
        "g = 0.1\n",
        "\n",
        "immune, epidemic = selectively_immunized_sis_model(g, G, S, I, beta, gamma, 100)\n",
        "assert epidemic.sum() == 5050\n",
        "assert epidemic.shape == (101, 2, 50)\n",
        "assert (epidemic.sum(axis=1) == 1).sum() == 5050"
      ],
      "execution_count": null,
      "outputs": []
    },
    {
      "cell_type": "code",
      "metadata": {
        "id": "5ohP2T97obzE"
      },
      "source": [
        "plt.figure(figsize=(7*2, 5*3))\n",
        "pos = nx.kamada_kawai_layout(G)\n",
        "i = 1\n",
        "for S, I in epidemic[:6]:\n",
        "    colors = I + 1\n",
        "    colors[immune] = -1\n",
        "    plt.subplot(3, 2, i)\n",
        "    nodes = nx.draw_networkx_nodes(G, pos, \n",
        "            node_size=400,\n",
        "            node_color=colors, \n",
        "            vmin=0, vmax=2, \n",
        "            cmap=plt.cm.rainbow,\n",
        "            edgecolors='black')\n",
        "    nx.draw_networkx_edges(G, pos,\n",
        "            width=0.5,\n",
        "            node_size=400)\n",
        "    nx.draw_networkx_labels(G, pos)\n",
        "    plt.title('Step {}'.format(i))\n",
        "    plt.legend(nodes.legend_elements()[0], ['Immune', 'Susceptible', 'Infected'])\n",
        "    plt.axis('off')\n",
        "    i += 1"
      ],
      "execution_count": null,
      "outputs": []
    },
    {
      "cell_type": "code",
      "metadata": {
        "id": "1Jrc1lQTobzE"
      },
      "source": [
        "for i in range(1, 20, 5):\n",
        "    immune, epidemic = selectively_immunized_sis_model(i / 20, G, S, I, beta, gamma, 200)\n",
        "    plt.plot(epidemic.mean(axis=2))\n",
        "    plt.title(f\"SIS selective immunization with rate {i / 20}\")\n",
        "    plt.legend(['S', 'I'])\n",
        "    plt.ylim(0, 1)\n",
        "    plt.show()"
      ],
      "execution_count": null,
      "outputs": []
    },
    {
      "cell_type": "markdown",
      "metadata": {
        "id": "6HdXHGRZobzE"
      },
      "source": [
        "We can see that Selective Immunization requires less rate of population to be vaccinized"
      ]
    },
    {
      "cell_type": "markdown",
      "metadata": {
        "id": "wL2o3uz-obzE"
      },
      "source": [
        "### Task 9. Degree assortativity and epidemics  (1.5 point)\n",
        "\n",
        "Most real-world networks are assortative. So high degree nodes tend to connect to other high degree nodes.\n",
        "Such nodes have a more significant probability of being infected because of the larger number of neighbours. So, when hubs are connected, the virus will spread faster.\n",
        "\n",
        "Let us see that effect.\n",
        "\n",
        "In the current task you need to realize `sir_network` that simulates node-level SIR model. Function takes similar input as SIRS except of `delta` probability."
      ]
    },
    {
      "cell_type": "code",
      "metadata": {
        "deletable": false,
        "nbgrader": {
          "cell_type": "code",
          "checksum": "adf14b78830dc17fed1a058a62d2f844",
          "grade": false,
          "grade_id": "cell-a370b871647b3523",
          "locked": false,
          "schema_version": 3,
          "solution": true,
          "task": false
        },
        "id": "Xc6tW9JeobzE"
      },
      "source": [
        "def sir_networks(G, S, I, R, beta, gamma, k):\n",
        "    # YOUR CODE HERE\n",
        "    raise NotImplementedError()"
      ],
      "execution_count": null,
      "outputs": []
    },
    {
      "cell_type": "code",
      "metadata": {
        "deletable": false,
        "editable": false,
        "nbgrader": {
          "cell_type": "code",
          "checksum": "b08a1cdd03b8a2bb8cc3543ff5b53f8a",
          "grade": true,
          "grade_id": "cell-7216e8ded2759adc",
          "locked": true,
          "points": 0.5,
          "schema_version": 3,
          "solution": false,
          "task": false
        },
        "id": "rPBOQjj_obzE"
      },
      "source": [
        "G = nx.barabasi_albert_graph(50, 3, seed=0)\n",
        "\n",
        "beta = 0.1\n",
        "gamma = 0.1\n",
        "delta = 0.1\n",
        "\n",
        "I = np.zeros(len(G))\n",
        "I[:3] = 1\n",
        "S = 1 - I\n",
        "R = np.zeros(len(G))\n",
        "epidemic = sir_networks(G, S, I, R, beta, gamma, 100)\n",
        "\n",
        "assert epidemic.sum() == 5050\n",
        "assert epidemic.shape == (101, 3, 50)\n",
        "assert (epidemic.sum(axis=1) == 1).sum() == 5050"
      ],
      "execution_count": null,
      "outputs": []
    },
    {
      "cell_type": "markdown",
      "metadata": {
        "id": "D2BPk9O_obzF"
      },
      "source": [
        "Also, we need to define generator for networks with different levels of degree assortativities.\n",
        "\n",
        "The function `generate_network` generates random graph (Erdos Renyi) with `n` nodes and `m-k` edges. If graph is assortative, connect `k` pairs of nodes with highest degree. If graph is disassortative, add `k` edges between high and low degree nodes. Prevent self-loops and parallel edges."
      ]
    },
    {
      "cell_type": "code",
      "metadata": {
        "deletable": false,
        "nbgrader": {
          "cell_type": "code",
          "checksum": "02ab58ed4aaa07190fa6c04a7ba5afa0",
          "grade": false,
          "grade_id": "cell-c47e47e779979bb5",
          "locked": false,
          "schema_version": 3,
          "solution": true,
          "task": false
        },
        "id": "y8eAQOoDobzF"
      },
      "source": [
        "def generate_network(n, m, k, assortative=True):\n",
        "    # YOUR CODE HERE\n",
        "    raise NotImplementedError()"
      ],
      "execution_count": null,
      "outputs": []
    },
    {
      "cell_type": "code",
      "metadata": {
        "deletable": false,
        "editable": false,
        "nbgrader": {
          "cell_type": "code",
          "checksum": "31c34392019dfe8f9bc56c9eebe9efb3",
          "grade": true,
          "grade_id": "cell-25803814cac5cc5b",
          "locked": true,
          "points": 1,
          "schema_version": 3,
          "solution": false,
          "task": false
        },
        "id": "t2pDJTVsobzF"
      },
      "source": [
        "G = generate_network(1000, 2000, 50, assortative=True)\n",
        "assert len(list(nx.selfloop_edges(G))) == 0\n",
        "assert nx.to_numpy_array(G).max() == 1\n",
        "assert G.number_of_nodes() == 1000\n",
        "assert G.number_of_edges() == 2000\n",
        "assert round(nx.degree_assortativity_coefficient(G), 4) > 0.08\n",
        "\n",
        "G = generate_network(1000, 2000, 50, assortative=False)\n",
        "assert round(nx.degree_assortativity_coefficient(G), 4) < -0.08"
      ],
      "execution_count": null,
      "outputs": []
    },
    {
      "cell_type": "markdown",
      "metadata": {
        "id": "cpEysfzlobzF"
      },
      "source": [
        "Let us generate some epidemic trajectories for graphs with different degree assortativity"
      ]
    },
    {
      "cell_type": "code",
      "metadata": {
        "id": "iDbrG3VOobzF"
      },
      "source": [
        "beta = 0.1\n",
        "gamma = 0.1\n",
        "delta = 0.1"
      ],
      "execution_count": null,
      "outputs": []
    },
    {
      "cell_type": "code",
      "metadata": {
        "id": "4m6Xke-NobzF"
      },
      "source": [
        "disassortative = np.zeros(51)\n",
        "for i in trange(50):\n",
        "    G = generate_network(1000, 2000, 50, assortative=False)\n",
        "    I = np.zeros(len(G))\n",
        "    I[:3] = 1\n",
        "    S = 1 - I\n",
        "    R = np.zeros(len(G))\n",
        "    epidemic = sir_networks(G, S, I, R, beta, gamma, 50)\n",
        "    disassortative += epidemic.sum(axis=2)[:, 1] / 50"
      ],
      "execution_count": null,
      "outputs": []
    },
    {
      "cell_type": "code",
      "metadata": {
        "id": "K-kbmK5TobzF"
      },
      "source": [
        "neutral = np.zeros(51)\n",
        "for i in trange(50):\n",
        "    G = nx.gnm_random_graph(1000, 2000)\n",
        "    I = np.zeros(len(G))\n",
        "    I[:3] = 1\n",
        "    S = 1 - I\n",
        "    R = np.zeros(len(G))\n",
        "    epidemic = sir_networks(G, S, I, R, beta, gamma, 50)\n",
        "    neutral += epidemic.sum(axis=2)[:, 1] / 50"
      ],
      "execution_count": null,
      "outputs": []
    },
    {
      "cell_type": "code",
      "metadata": {
        "id": "cKuEkR0EobzG"
      },
      "source": [
        "assortative = np.zeros(51)\n",
        "for i in trange(50):\n",
        "    G = generate_network(1000, 2000, 50, assortative=True)\n",
        "    I = np.zeros(len(G))\n",
        "    I[:3] = 1\n",
        "    S = 1 - I\n",
        "    R = np.zeros(len(G))\n",
        "    epidemic = sir_networks(G, S, I, R, beta, gamma, 50)\n",
        "    assortative += epidemic.sum(axis=2)[:, 1] / 50"
      ],
      "execution_count": null,
      "outputs": []
    },
    {
      "cell_type": "code",
      "metadata": {
        "id": "UbkLSCnyobzG"
      },
      "source": [
        "plt.plot(disassortative, label='disassortative')\n",
        "plt.plot(neutral, label='neutral')\n",
        "plt.plot(assortative, label='assortative')\n",
        "plt.legend()\n",
        "plt.title('Infected people');"
      ],
      "execution_count": null,
      "outputs": []
    },
    {
      "cell_type": "markdown",
      "metadata": {
        "id": "GqEsaCqZobzG"
      },
      "source": [
        "Given that hubs are the first to be infected in a network, assortativity accelerates the spread of a pathogen. In contrast disassortativity slows the spreading process."
      ]
    },
    {
      "cell_type": "markdown",
      "metadata": {
        "id": "yLav_6ZlobzG"
      },
      "source": [
        "### Task 10. Self-isolation  (1 points)\n",
        "\n",
        "In this task we will see how self-isolation helps to beat epidemics.\n",
        "\n",
        "The general idea is similar to the immunization: we make some nodes invisible for the virus.\n",
        "\n",
        "Here you need to define the `random_self_isolation` function, that works similarly to the `randomly_immunized_sis_model`, but after some steps all isolated nodes become visible for the virus.\n",
        "\n",
        "1. Select part (with rate `g`) of nodes randomly\n",
        "2. Remove all edges adjacent to selected nodes\n",
        "3. Run `sis_networks` model for number of steps `t` (self-isolation period)\n",
        "4. Add all removed edges\n",
        "5. Run `sis_networks` model for number of steps `k - t` keeping previous state\n",
        "\n",
        "_Hint: use `np.random.choice` to select random subsample_"
      ]
    },
    {
      "cell_type": "code",
      "metadata": {
        "deletable": false,
        "nbgrader": {
          "cell_type": "code",
          "checksum": "2598fd1d9baf9a4b46c8718af15c332b",
          "grade": false,
          "grade_id": "cell-6a99af1318fc0cd5",
          "locked": false,
          "schema_version": 3,
          "solution": true,
          "task": false
        },
        "id": "YXIyPZz0obzG"
      },
      "source": [
        "def self_isolation_sis_model(g, t, G, S, I, beta, gamma, k):\n",
        "    # YOUR CODE HERE\n",
        "    raise NotImplementedError()"
      ],
      "execution_count": null,
      "outputs": []
    },
    {
      "cell_type": "code",
      "metadata": {
        "deletable": false,
        "editable": false,
        "nbgrader": {
          "cell_type": "code",
          "checksum": "92a6650accade74925dd2c251e93ce46",
          "grade": true,
          "grade_id": "cell-a88e64365d7f1c0c",
          "locked": true,
          "points": 1,
          "schema_version": 3,
          "solution": false,
          "task": false
        },
        "id": "AqHkM8f8obzG"
      },
      "source": [
        "G = nx.barabasi_albert_graph(50, 3, seed=0)\n",
        "\n",
        "I = np.zeros(len(G))\n",
        "I[:3] = 1\n",
        "S = 1 - I\n",
        "beta = 0.2\n",
        "gamma = 0.1\n",
        "g = 0.3\n",
        "t = 3\n",
        "\n",
        "immune, epidemic = self_isolation_sis_model(g, t, G, S, I, beta, gamma, 100)\n",
        "assert epidemic.sum() == 5100\n",
        "assert epidemic.shape == (102, 2, 50)\n",
        "assert (epidemic.sum(axis=1) == 1).sum() == 5100"
      ],
      "execution_count": null,
      "outputs": []
    },
    {
      "cell_type": "code",
      "metadata": {
        "id": "Oh9jL2F-obzG"
      },
      "source": [
        "plt.figure(figsize=(7*2, 5*3))\n",
        "pos = nx.kamada_kawai_layout(G)\n",
        "i = 1\n",
        "for step, (S, I) in enumerate(epidemic[:6]):\n",
        "    colors = I + 1\n",
        "    if step < 3:\n",
        "        colors[immune] = -1\n",
        "    plt.subplot(3, 2, i)\n",
        "    nodes = nx.draw_networkx_nodes(G, pos, \n",
        "            node_size=400,\n",
        "            node_color=colors, \n",
        "            vmin=0, vmax=2, \n",
        "            cmap=plt.cm.rainbow,\n",
        "            edgecolors='black')\n",
        "    nx.draw_networkx_edges(G, pos,\n",
        "            width=0.5,\n",
        "            node_size=400)\n",
        "    nx.draw_networkx_labels(G, pos)\n",
        "    plt.title('Step {}'.format(i))\n",
        "    plt.legend(nodes.legend_elements()[0], ['Isolated', 'Susceptible', 'Infected'])\n",
        "    plt.axis('off')\n",
        "    i += 1"
      ],
      "execution_count": null,
      "outputs": []
    },
    {
      "cell_type": "code",
      "metadata": {
        "id": "quZ32va2obzH"
      },
      "source": [
        "for i in range(1, 20, 5):\n",
        "    immune, epidemic = self_isolation_sis_model(i / 20, 10, G, S, I, beta, gamma, 50)\n",
        "    plt.plot(epidemic.mean(axis=2))\n",
        "    plt.title(f\"SIS random self-isolation with rate {i / 20}\")\n",
        "    plt.legend(['S', 'I'])\n",
        "    plt.ylim(0, 1)\n",
        "    plt.show()"
      ],
      "execution_count": null,
      "outputs": []
    },
    {
      "cell_type": "markdown",
      "metadata": {
        "id": "I48bXuPGobzH"
      },
      "source": [
        "Here we can see that high self-isolated rate of population just delays a case when all people to be infected"
      ]
    },
    {
      "cell_type": "code",
      "metadata": {
        "id": "RwPYwAABobzH"
      },
      "source": [
        "for i in range(1, 50, 5):\n",
        "    immune, epidemic = self_isolation_sis_model(0.3, i, G, S, I, beta, gamma, 50)\n",
        "    plt.plot(epidemic.mean(axis=2))\n",
        "    plt.title(f\"SIS random self-isolation with self-isolation period {i}\")\n",
        "    plt.legend(['S', 'I'])\n",
        "    plt.ylim(0, 1)\n",
        "    plt.show()"
      ],
      "execution_count": null,
      "outputs": []
    },
    {
      "cell_type": "markdown",
      "metadata": {
        "id": "Z83VUmzsobzH"
      },
      "source": [
        "So, this model shows that the only efficient way to beat the pandemic is vaccination."
      ]
    },
    {
      "cell_type": "code",
      "metadata": {
        "id": "mc1Gv3soobzH"
      },
      "source": [
        ""
      ],
      "execution_count": null,
      "outputs": []
    }
  ]
}